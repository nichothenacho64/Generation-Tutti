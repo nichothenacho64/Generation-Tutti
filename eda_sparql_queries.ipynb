{
 "cells": [
  {
   "cell_type": "code",
   "execution_count": null,
   "id": "49feafc4",
   "metadata": {},
   "outputs": [],
   "source": [
    "from pprint import pprint\n",
    "\n",
    "from SPARQLWrapper import SPARQLWrapper, JSON\n",
    "import pandas as pd\n",
    "\n",
    "endpoint_url = \"https://dbpedia.org/sparql\"\n",
    "prefixes = \"\"\" \n",
    "PREFIX schema: <http://schema.org/> \n",
    "\n",
    "PREFIX rdf: <http://www.w3.org/1999/02/22-rdf-syntax-ns#> \n",
    "PREFIX rdfs: <http://www.w3.org/2000/01/rdf-schema#> \n",
    "PREFIX owl: <http://www.w3.org/2002/07/owl#> \n",
    "PREFIX dc: <http://purl.org/dc/elements/1.1/> \n",
    "\n",
    "PREFIX dbo: <http://dbpedia.org/ontology/>\n",
    "PREFIX dbr: <http://dbpedia.org/resource/>\n",
    "\n",
    "PREFIX dct: <http://purl.org/dc/terms/>\n",
    "PREFIX dbc: <http://dbpedia.org/resource/Category:>\n",
    "\"\"\" # found later in the process\n",
    "\n",
    "\n",
    "# Define a function to query and return a DataFrame\n",
    "def run_query(query, endpoint=endpoint_url):\n",
    "    sparql = SPARQLWrapper(endpoint)\n",
    "    sparql.setQuery(prefixes + query)\n",
    "    sparql.setReturnFormat(JSON)\n",
    "    results = sparql.query().convert()\n",
    "\n",
    "    if 'boolean' in results:  # type: ignore\n",
    "        return results['boolean']  # type: ignore\n",
    "\n",
    "    elif 'head' in results and 'results' in results:  # type: ignore\n",
    "        cols = results[\"head\"][\"vars\"] # type: ignore\n",
    "        data = []\n",
    "        for result in results[\"results\"][\"bindings\"]: # type: ignore\n",
    "            row = [result.get(col, {}).get(\"value\", None) for col in cols] # type: ignore\n",
    "            data.append(row)\n",
    "\n",
    "        return pd.DataFrame(data, columns=cols) # type: ignore\n",
    "    \n",
    "    else:\n",
    "        raise ValueError(\"Unknown SPARQL response format\")\n",
    "\n",
    "\n",
    "# https://dbpedia.org/page/Italy\n"
   ]
  },
  {
   "cell_type": "code",
   "execution_count": null,
   "id": "5bf9539e",
   "metadata": {},
   "outputs": [
    {
     "data": {
      "application/vnd.microsoft.datawrangler.viewer.v0+json": {
       "columns": [
        {
         "name": "index",
         "rawType": "int64",
         "type": "integer"
        },
        {
         "name": "p",
         "rawType": "object",
         "type": "string"
        }
       ],
       "ref": "520bd289-0385-47bb-968d-004460ea883a",
       "rows": [
        [
         "0",
         "http://www.w3.org/1999/02/22-rdf-syntax-ns#type"
        ],
        [
         "1",
         "http://www.w3.org/2000/01/rdf-schema#label"
        ],
        [
         "2",
         "http://www.w3.org/2000/01/rdf-schema#comment"
        ],
        [
         "3",
         "http://www.w3.org/2000/01/rdf-schema#seeAlso"
        ],
        [
         "4",
         "http://xmlns.com/foaf/0.1/name"
        ],
        [
         "5",
         "http://xmlns.com/foaf/0.1/homepage"
        ],
        [
         "6",
         "http://www.w3.org/2004/02/skos/core#exactMatch"
        ],
        [
         "7",
         "http://www.w3.org/2003/01/geo/wgs84_pos#lat"
        ],
        [
         "8",
         "http://www.w3.org/2003/01/geo/wgs84_pos#long"
        ],
        [
         "9",
         "http://xmlns.com/foaf/0.1/depiction"
        ],
        [
         "10",
         "http://purl.org/dc/terms/subject"
        ],
        [
         "11",
         "http://dbpedia.org/ontology/wikiPageID"
        ],
        [
         "12",
         "http://dbpedia.org/ontology/wikiPageRevisionID"
        ],
        [
         "13",
         "http://dbpedia.org/ontology/wikiPageWikiLink"
        ],
        [
         "14",
         "http://dbpedia.org/ontology/wikiPageExternalLink"
        ],
        [
         "15",
         "http://www.w3.org/2002/07/owl#sameAs"
        ],
        [
         "16",
         "http://dbpedia.org/property/sovereigntyType"
        ],
        [
         "17",
         "http://dbpedia.org/property/symbolType"
        ],
        [
         "18",
         "http://dbpedia.org/property/timeZoneDst"
        ],
        [
         "19",
         "http://dbpedia.org/property/upperHouse"
        ],
        [
         "20",
         "http://dbpedia.org/property/wikiPageUsesTemplate"
        ],
        [
         "21",
         "http://dbpedia.org/ontology/thumbnail"
        ],
        [
         "22",
         "http://dbpedia.org/property/areaRank"
        ],
        [
         "23",
         "http://dbpedia.org/property/commonName"
        ],
        [
         "24",
         "http://dbpedia.org/property/align"
        ],
        [
         "25",
         "http://dbpedia.org/property/alt"
        ],
        [
         "26",
         "http://dbpedia.org/property/caption"
        ],
        [
         "27",
         "http://dbpedia.org/property/captionAlign"
        ],
        [
         "28",
         "http://dbpedia.org/property/d"
        ],
        [
         "29",
         "http://dbpedia.org/property/direction"
        ],
        [
         "30",
         "http://dbpedia.org/property/establishedDate"
        ],
        [
         "31",
         "http://dbpedia.org/property/footer"
        ],
        [
         "32",
         "http://dbpedia.org/property/governmentType"
        ],
        [
         "33",
         "http://dbpedia.org/property/image"
        ],
        [
         "34",
         "http://dbpedia.org/property/imageFlag"
        ],
        [
         "35",
         "http://dbpedia.org/property/languages"
        ],
        [
         "36",
         "http://dbpedia.org/property/leaderName"
        ],
        [
         "37",
         "http://dbpedia.org/property/leaderTitle"
        ],
        [
         "38",
         "http://dbpedia.org/property/legislature"
        ],
        [
         "39",
         "http://dbpedia.org/property/populationDensityKm"
        ],
        [
         "40",
         "http://dbpedia.org/property/title"
        ],
        [
         "41",
         "http://dbpedia.org/property/totalWidth"
        ],
        [
         "42",
         "http://dbpedia.org/property/utcOffset"
        ],
        [
         "43",
         "http://dbpedia.org/property/utcOffsetDst"
        ],
        [
         "44",
         "http://dbpedia.org/property/voy"
        ],
        [
         "45",
         "http://dbpedia.org/property/width"
        ],
        [
         "46",
         "http://www.georss.org/georss/point"
        ],
        [
         "47",
         "http://dbpedia.org/property/currency"
        ],
        [
         "48",
         "http://dbpedia.org/property/timeZone"
        ],
        [
         "49",
         "http://dbpedia.org/ontology/abstract"
        ]
       ],
       "shape": {
        "columns": 1,
        "rows": 125
       }
      },
      "text/html": [
       "<div>\n",
       "<style scoped>\n",
       "    .dataframe tbody tr th:only-of-type {\n",
       "        vertical-align: middle;\n",
       "    }\n",
       "\n",
       "    .dataframe tbody tr th {\n",
       "        vertical-align: top;\n",
       "    }\n",
       "\n",
       "    .dataframe thead th {\n",
       "        text-align: right;\n",
       "    }\n",
       "</style>\n",
       "<table border=\"1\" class=\"dataframe\">\n",
       "  <thead>\n",
       "    <tr style=\"text-align: right;\">\n",
       "      <th></th>\n",
       "      <th>p</th>\n",
       "    </tr>\n",
       "  </thead>\n",
       "  <tbody>\n",
       "    <tr>\n",
       "      <th>0</th>\n",
       "      <td>http://www.w3.org/1999/02/22-rdf-syntax-ns#type</td>\n",
       "    </tr>\n",
       "    <tr>\n",
       "      <th>1</th>\n",
       "      <td>http://www.w3.org/2000/01/rdf-schema#label</td>\n",
       "    </tr>\n",
       "    <tr>\n",
       "      <th>2</th>\n",
       "      <td>http://www.w3.org/2000/01/rdf-schema#comment</td>\n",
       "    </tr>\n",
       "    <tr>\n",
       "      <th>3</th>\n",
       "      <td>http://www.w3.org/2000/01/rdf-schema#seeAlso</td>\n",
       "    </tr>\n",
       "    <tr>\n",
       "      <th>4</th>\n",
       "      <td>http://xmlns.com/foaf/0.1/name</td>\n",
       "    </tr>\n",
       "    <tr>\n",
       "      <th>...</th>\n",
       "      <td>...</td>\n",
       "    </tr>\n",
       "    <tr>\n",
       "      <th>120</th>\n",
       "      <td>http://dbpedia.org/ontology/governmentType</td>\n",
       "    </tr>\n",
       "    <tr>\n",
       "      <th>121</th>\n",
       "      <td>http://dbpedia.org/ontology/language</td>\n",
       "    </tr>\n",
       "    <tr>\n",
       "      <th>122</th>\n",
       "      <td>http://dbpedia.org/ontology/timeZone</td>\n",
       "    </tr>\n",
       "    <tr>\n",
       "      <th>123</th>\n",
       "      <td>http://xmlns.com/foaf/0.1/isPrimaryTopicOf</td>\n",
       "    </tr>\n",
       "    <tr>\n",
       "      <th>124</th>\n",
       "      <td>http://www.w3.org/2003/01/geo/wgs84_pos#geometry</td>\n",
       "    </tr>\n",
       "  </tbody>\n",
       "</table>\n",
       "<p>125 rows × 1 columns</p>\n",
       "</div>"
      ],
      "text/plain": [
       "                                                    p\n",
       "0     http://www.w3.org/1999/02/22-rdf-syntax-ns#type\n",
       "1          http://www.w3.org/2000/01/rdf-schema#label\n",
       "2        http://www.w3.org/2000/01/rdf-schema#comment\n",
       "3        http://www.w3.org/2000/01/rdf-schema#seeAlso\n",
       "4                      http://xmlns.com/foaf/0.1/name\n",
       "..                                                ...\n",
       "120        http://dbpedia.org/ontology/governmentType\n",
       "121              http://dbpedia.org/ontology/language\n",
       "122              http://dbpedia.org/ontology/timeZone\n",
       "123        http://xmlns.com/foaf/0.1/isPrimaryTopicOf\n",
       "124  http://www.w3.org/2003/01/geo/wgs84_pos#geometry\n",
       "\n",
       "[125 rows x 1 columns]"
      ]
     },
     "execution_count": 163,
     "metadata": {},
     "output_type": "execute_result"
    }
   ],
   "source": [
    "# 1.\n",
    "# ?? finding out the predicates on the Italy page\n",
    "# \n",
    "all_query_predicates = '''\n",
    "SELECT DISTINCT ?p\n",
    "WHERE { \n",
    "    dbr:Italy ?p ?o .\n",
    "}\n",
    "'''\n",
    "\n",
    "predicates_df = run_query(all_query_predicates)\n",
    "predicates_df"
   ]
  },
  {
   "cell_type": "code",
   "execution_count": null,
   "id": "b9204bb7",
   "metadata": {},
   "outputs": [
    {
     "name": "stdout",
     "output_type": "stream",
     "text": [
      "['p']\n"
     ]
    },
    {
     "data": {
      "application/vnd.microsoft.datawrangler.viewer.v0+json": {
       "columns": [
        {
         "name": "index",
         "rawType": "int64",
         "type": "integer"
        },
        {
         "name": "p",
         "rawType": "object",
         "type": "string"
        }
       ],
       "ref": "3a04ed3a-4353-4968-b957-8045e8f99fd9",
       "rows": [
        [
         "0",
         "http://www.w3.org/1999/02/22-rdf-syntax-ns#type"
        ],
        [
         "1",
         "http://www.w3.org/2000/01/rdf-schema#label"
        ]
       ],
       "shape": {
        "columns": 1,
        "rows": 2
       }
      },
      "text/html": [
       "<div>\n",
       "<style scoped>\n",
       "    .dataframe tbody tr th:only-of-type {\n",
       "        vertical-align: middle;\n",
       "    }\n",
       "\n",
       "    .dataframe tbody tr th {\n",
       "        vertical-align: top;\n",
       "    }\n",
       "\n",
       "    .dataframe thead th {\n",
       "        text-align: right;\n",
       "    }\n",
       "</style>\n",
       "<table border=\"1\" class=\"dataframe\">\n",
       "  <thead>\n",
       "    <tr style=\"text-align: right;\">\n",
       "      <th></th>\n",
       "      <th>p</th>\n",
       "    </tr>\n",
       "  </thead>\n",
       "  <tbody>\n",
       "    <tr>\n",
       "      <th>0</th>\n",
       "      <td>http://www.w3.org/1999/02/22-rdf-syntax-ns#type</td>\n",
       "    </tr>\n",
       "    <tr>\n",
       "      <th>1</th>\n",
       "      <td>http://www.w3.org/2000/01/rdf-schema#label</td>\n",
       "    </tr>\n",
       "  </tbody>\n",
       "</table>\n",
       "</div>"
      ],
      "text/plain": [
       "                                                 p\n",
       "0  http://www.w3.org/1999/02/22-rdf-syntax-ns#type\n",
       "1       http://www.w3.org/2000/01/rdf-schema#label"
      ]
     },
     "execution_count": 3,
     "metadata": {},
     "output_type": "execute_result"
    }
   ],
   "source": [
    "# 2.\n",
    "# ?? checking for the existence of specific predicates\n",
    "# \n",
    "query_predicates = '''\n",
    "SELECT DISTINCT ?p\n",
    "WHERE {\n",
    "  dbr:Italy ?p ?o .\n",
    "  VALUES ?p {\n",
    "    <http://www.w3.org/1999/02/22-rdf-syntax-ns#type> \n",
    "    <http://www.w3.org/2000/01/rdf-schema#label> \n",
    "  }\n",
    "}\n",
    "'''\n",
    "\n",
    "predicates_df = run_query(query_predicates)\n",
    "predicates_df"
   ]
  },
  {
   "cell_type": "code",
   "execution_count": null,
   "id": "cabb4c33",
   "metadata": {},
   "outputs": [
    {
     "data": {
      "application/vnd.microsoft.datawrangler.viewer.v0+json": {
       "columns": [
        {
         "name": "index",
         "rawType": "int64",
         "type": "integer"
        },
        {
         "name": "p",
         "rawType": "object",
         "type": "string"
        }
       ],
       "ref": "2cd6ab7b-be5c-488e-b51d-698e6f2c6acf",
       "rows": [
        [
         "0",
         "http://dbpedia.org/ontology/wikiPageID"
        ],
        [
         "1",
         "http://dbpedia.org/ontology/wikiPageRevisionID"
        ],
        [
         "2",
         "http://dbpedia.org/ontology/wikiPageWikiLink"
        ],
        [
         "3",
         "http://dbpedia.org/ontology/wikiPageExternalLink"
        ],
        [
         "4",
         "http://www.w3.org/2002/07/owl#sameAs"
        ],
        [
         "5",
         "http://dbpedia.org/ontology/thumbnail"
        ],
        [
         "6",
         "http://dbpedia.org/ontology/abstract"
        ],
        [
         "7",
         "http://dbpedia.org/ontology/anthem"
        ],
        [
         "8",
         "http://dbpedia.org/ontology/currency"
        ],
        [
         "9",
         "http://dbpedia.org/ontology/topLevelDomain"
        ],
        [
         "10",
         "http://dbpedia.org/ontology/countryCode"
        ],
        [
         "11",
         "http://dbpedia.org/ontology/currencyCode"
        ],
        [
         "12",
         "http://dbpedia.org/ontology/percentageOfAreaWater"
        ],
        [
         "13",
         "http://dbpedia.org/ontology/legislature"
        ],
        [
         "14",
         "http://dbpedia.org/ontology/PopulatedPlace/area"
        ],
        [
         "15",
         "http://dbpedia.org/ontology/PopulatedPlace/populationDensity"
        ],
        [
         "16",
         "http://dbpedia.org/ontology/wikiPageLength"
        ],
        [
         "17",
         "http://dbpedia.org/ontology/officialLanguage"
        ],
        [
         "18",
         "http://dbpedia.org/ontology/area"
        ],
        [
         "19",
         "http://dbpedia.org/ontology/demonym"
        ],
        [
         "20",
         "http://dbpedia.org/ontology/populationDensity"
        ],
        [
         "21",
         "http://dbpedia.org/ontology/populationTotal"
        ],
        [
         "22",
         "http://dbpedia.org/ontology/populationTotalRanking"
        ],
        [
         "23",
         "http://dbpedia.org/ontology/utcOffset"
        ],
        [
         "24",
         "http://dbpedia.org/ontology/humanDevelopmentIndex"
        ],
        [
         "25",
         "http://dbpedia.org/ontology/giniCoefficient"
        ],
        [
         "26",
         "http://dbpedia.org/ontology/capital"
        ],
        [
         "27",
         "http://dbpedia.org/ontology/event"
        ],
        [
         "28",
         "http://dbpedia.org/ontology/governmentType"
        ],
        [
         "29",
         "http://dbpedia.org/ontology/language"
        ],
        [
         "30",
         "http://dbpedia.org/ontology/timeZone"
        ]
       ],
       "shape": {
        "columns": 1,
        "rows": 31
       }
      },
      "text/html": [
       "<div>\n",
       "<style scoped>\n",
       "    .dataframe tbody tr th:only-of-type {\n",
       "        vertical-align: middle;\n",
       "    }\n",
       "\n",
       "    .dataframe tbody tr th {\n",
       "        vertical-align: top;\n",
       "    }\n",
       "\n",
       "    .dataframe thead th {\n",
       "        text-align: right;\n",
       "    }\n",
       "</style>\n",
       "<table border=\"1\" class=\"dataframe\">\n",
       "  <thead>\n",
       "    <tr style=\"text-align: right;\">\n",
       "      <th></th>\n",
       "      <th>p</th>\n",
       "    </tr>\n",
       "  </thead>\n",
       "  <tbody>\n",
       "    <tr>\n",
       "      <th>0</th>\n",
       "      <td>http://dbpedia.org/ontology/wikiPageID</td>\n",
       "    </tr>\n",
       "    <tr>\n",
       "      <th>1</th>\n",
       "      <td>http://dbpedia.org/ontology/wikiPageRevisionID</td>\n",
       "    </tr>\n",
       "    <tr>\n",
       "      <th>2</th>\n",
       "      <td>http://dbpedia.org/ontology/wikiPageWikiLink</td>\n",
       "    </tr>\n",
       "    <tr>\n",
       "      <th>3</th>\n",
       "      <td>http://dbpedia.org/ontology/wikiPageExternalLink</td>\n",
       "    </tr>\n",
       "    <tr>\n",
       "      <th>4</th>\n",
       "      <td>http://www.w3.org/2002/07/owl#sameAs</td>\n",
       "    </tr>\n",
       "    <tr>\n",
       "      <th>5</th>\n",
       "      <td>http://dbpedia.org/ontology/thumbnail</td>\n",
       "    </tr>\n",
       "    <tr>\n",
       "      <th>6</th>\n",
       "      <td>http://dbpedia.org/ontology/abstract</td>\n",
       "    </tr>\n",
       "    <tr>\n",
       "      <th>7</th>\n",
       "      <td>http://dbpedia.org/ontology/anthem</td>\n",
       "    </tr>\n",
       "    <tr>\n",
       "      <th>8</th>\n",
       "      <td>http://dbpedia.org/ontology/currency</td>\n",
       "    </tr>\n",
       "    <tr>\n",
       "      <th>9</th>\n",
       "      <td>http://dbpedia.org/ontology/topLevelDomain</td>\n",
       "    </tr>\n",
       "    <tr>\n",
       "      <th>10</th>\n",
       "      <td>http://dbpedia.org/ontology/countryCode</td>\n",
       "    </tr>\n",
       "    <tr>\n",
       "      <th>11</th>\n",
       "      <td>http://dbpedia.org/ontology/currencyCode</td>\n",
       "    </tr>\n",
       "    <tr>\n",
       "      <th>12</th>\n",
       "      <td>http://dbpedia.org/ontology/percentageOfAreaWater</td>\n",
       "    </tr>\n",
       "    <tr>\n",
       "      <th>13</th>\n",
       "      <td>http://dbpedia.org/ontology/legislature</td>\n",
       "    </tr>\n",
       "    <tr>\n",
       "      <th>14</th>\n",
       "      <td>http://dbpedia.org/ontology/PopulatedPlace/area</td>\n",
       "    </tr>\n",
       "    <tr>\n",
       "      <th>15</th>\n",
       "      <td>http://dbpedia.org/ontology/PopulatedPlace/pop...</td>\n",
       "    </tr>\n",
       "    <tr>\n",
       "      <th>16</th>\n",
       "      <td>http://dbpedia.org/ontology/wikiPageLength</td>\n",
       "    </tr>\n",
       "    <tr>\n",
       "      <th>17</th>\n",
       "      <td>http://dbpedia.org/ontology/officialLanguage</td>\n",
       "    </tr>\n",
       "    <tr>\n",
       "      <th>18</th>\n",
       "      <td>http://dbpedia.org/ontology/area</td>\n",
       "    </tr>\n",
       "    <tr>\n",
       "      <th>19</th>\n",
       "      <td>http://dbpedia.org/ontology/demonym</td>\n",
       "    </tr>\n",
       "    <tr>\n",
       "      <th>20</th>\n",
       "      <td>http://dbpedia.org/ontology/populationDensity</td>\n",
       "    </tr>\n",
       "    <tr>\n",
       "      <th>21</th>\n",
       "      <td>http://dbpedia.org/ontology/populationTotal</td>\n",
       "    </tr>\n",
       "    <tr>\n",
       "      <th>22</th>\n",
       "      <td>http://dbpedia.org/ontology/populationTotalRan...</td>\n",
       "    </tr>\n",
       "    <tr>\n",
       "      <th>23</th>\n",
       "      <td>http://dbpedia.org/ontology/utcOffset</td>\n",
       "    </tr>\n",
       "    <tr>\n",
       "      <th>24</th>\n",
       "      <td>http://dbpedia.org/ontology/humanDevelopmentIndex</td>\n",
       "    </tr>\n",
       "    <tr>\n",
       "      <th>25</th>\n",
       "      <td>http://dbpedia.org/ontology/giniCoefficient</td>\n",
       "    </tr>\n",
       "    <tr>\n",
       "      <th>26</th>\n",
       "      <td>http://dbpedia.org/ontology/capital</td>\n",
       "    </tr>\n",
       "    <tr>\n",
       "      <th>27</th>\n",
       "      <td>http://dbpedia.org/ontology/event</td>\n",
       "    </tr>\n",
       "    <tr>\n",
       "      <th>28</th>\n",
       "      <td>http://dbpedia.org/ontology/governmentType</td>\n",
       "    </tr>\n",
       "    <tr>\n",
       "      <th>29</th>\n",
       "      <td>http://dbpedia.org/ontology/language</td>\n",
       "    </tr>\n",
       "    <tr>\n",
       "      <th>30</th>\n",
       "      <td>http://dbpedia.org/ontology/timeZone</td>\n",
       "    </tr>\n",
       "  </tbody>\n",
       "</table>\n",
       "</div>"
      ],
      "text/plain": [
       "                                                    p\n",
       "0              http://dbpedia.org/ontology/wikiPageID\n",
       "1      http://dbpedia.org/ontology/wikiPageRevisionID\n",
       "2        http://dbpedia.org/ontology/wikiPageWikiLink\n",
       "3    http://dbpedia.org/ontology/wikiPageExternalLink\n",
       "4                http://www.w3.org/2002/07/owl#sameAs\n",
       "5               http://dbpedia.org/ontology/thumbnail\n",
       "6                http://dbpedia.org/ontology/abstract\n",
       "7                  http://dbpedia.org/ontology/anthem\n",
       "8                http://dbpedia.org/ontology/currency\n",
       "9          http://dbpedia.org/ontology/topLevelDomain\n",
       "10            http://dbpedia.org/ontology/countryCode\n",
       "11           http://dbpedia.org/ontology/currencyCode\n",
       "12  http://dbpedia.org/ontology/percentageOfAreaWater\n",
       "13            http://dbpedia.org/ontology/legislature\n",
       "14    http://dbpedia.org/ontology/PopulatedPlace/area\n",
       "15  http://dbpedia.org/ontology/PopulatedPlace/pop...\n",
       "16         http://dbpedia.org/ontology/wikiPageLength\n",
       "17       http://dbpedia.org/ontology/officialLanguage\n",
       "18                   http://dbpedia.org/ontology/area\n",
       "19                http://dbpedia.org/ontology/demonym\n",
       "20      http://dbpedia.org/ontology/populationDensity\n",
       "21        http://dbpedia.org/ontology/populationTotal\n",
       "22  http://dbpedia.org/ontology/populationTotalRan...\n",
       "23              http://dbpedia.org/ontology/utcOffset\n",
       "24  http://dbpedia.org/ontology/humanDevelopmentIndex\n",
       "25        http://dbpedia.org/ontology/giniCoefficient\n",
       "26                http://dbpedia.org/ontology/capital\n",
       "27                  http://dbpedia.org/ontology/event\n",
       "28         http://dbpedia.org/ontology/governmentType\n",
       "29               http://dbpedia.org/ontology/language\n",
       "30               http://dbpedia.org/ontology/timeZone"
      ]
     },
     "execution_count": 164,
     "metadata": {},
     "output_type": "execute_result"
    }
   ],
   "source": [
    "# 3.\n",
    "# ?? checking for the existence of important predicates\n",
    "# \n",
    "query_predicates = \"\"\"\n",
    "SELECT DISTINCT ?p\n",
    "WHERE {\n",
    "  dbr:Italy ?p ?o .\n",
    "  FILTER (\n",
    "    STRSTARTS(STR(?p), \"http://www.w3.org/2002/07/owl#\") ||\n",
    "    STRSTARTS(STR(?p), \"http://purl.org/dc/elements/1.1/\") ||\n",
    "    STRSTARTS(STR(?p), \"http://dbpedia.org/ontology/\") ||\n",
    "    STRSTARTS(STR(?p), \"http://dbpedia.org/resource/\")\n",
    "  )\n",
    "}\n",
    "\"\"\"\n",
    "\n",
    "predicates_df = run_query(query_predicates)\n",
    "predicates_df"
   ]
  },
  {
   "cell_type": "code",
   "execution_count": null,
   "id": "c3bda278",
   "metadata": {},
   "outputs": [
    {
     "name": "stdout",
     "output_type": "stream",
     "text": [
      "['region', 'name']\n"
     ]
    },
    {
     "data": {
      "application/vnd.microsoft.datawrangler.viewer.v0+json": {
       "columns": [
        {
         "name": "index",
         "rawType": "int64",
         "type": "integer"
        },
        {
         "name": "region",
         "rawType": "object",
         "type": "string"
        },
        {
         "name": "name",
         "rawType": "object",
         "type": "string"
        }
       ],
       "ref": "27ed5c50-32ea-48b3-912d-414eee141da0",
       "rows": [
        [
         "0",
         "http://dbpedia.org/resource/Friuli_Venezia_Giulia",
         "Aeroporto di Trieste-Ronchi dei Legionari"
        ],
        [
         "1",
         "http://dbpedia.org/resource/Aosta_Valley",
         "Aosta"
        ],
        [
         "2",
         "http://dbpedia.org/resource/Basilicata",
         "Basilicata"
        ],
        [
         "3",
         "http://dbpedia.org/resource/Calabria",
         "Calabria"
        ],
        [
         "4",
         "http://dbpedia.org/resource/Campania",
         "Campania"
        ],
        [
         "5",
         "http://dbpedia.org/resource/Calabria",
         "Consiglio regionale della Calabria"
        ],
        [
         "6",
         "http://dbpedia.org/resource/Friuli_Venezia_Giulia",
         "Consiglio regionale del Friuli-Venezia Giulia"
        ],
        [
         "7",
         "http://dbpedia.org/resource/Emilia-Romagna",
         "Emilia"
        ],
        [
         "8",
         "http://dbpedia.org/resource/Emilia-Romagna",
         "Emilia-Romagna"
        ],
        [
         "9",
         "http://dbpedia.org/resource/Friuli_Venezia_Giulia",
         "Friuli"
        ],
        [
         "10",
         "http://dbpedia.org/resource/Friuli_Venezia_Giulia",
         "Friuli-Venezia Giulia"
        ],
        [
         "11",
         "http://dbpedia.org/resource/Sicily",
         "Isola di Sicilia"
        ],
        [
         "12",
         "http://dbpedia.org/resource/Lazio",
         "Latium"
        ],
        [
         "13",
         "http://dbpedia.org/resource/Lazio",
         "Lazio"
        ],
        [
         "14",
         "http://dbpedia.org/resource/Liguria",
         "Liguri"
        ],
        [
         "15",
         "http://dbpedia.org/resource/Liguria",
         "Liguria"
        ],
        [
         "16",
         "http://dbpedia.org/resource/Marche",
         "Marche"
        ],
        [
         "17",
         "http://dbpedia.org/resource/Marche",
         "Marken"
        ],
        [
         "18",
         "http://dbpedia.org/resource/Molise",
         "Molise"
        ],
        [
         "19",
         "http://dbpedia.org/resource/Friuli_Venezia_Giulia",
         "Provincia di Udine"
        ],
        [
         "20",
         "http://dbpedia.org/resource/Apulia",
         "Puglia"
        ],
        [
         "21",
         "http://dbpedia.org/resource/Sicily",
         "Sicilia"
        ],
        [
         "22",
         "http://dbpedia.org/resource/Sicily",
         "Sicilia (provincia romana)"
        ],
        [
         "23",
         "http://dbpedia.org/resource/Tuscany",
         "Toscana"
        ],
        [
         "24",
         "http://dbpedia.org/resource/Umbria",
         "Umbria"
        ],
        [
         "25",
         "http://dbpedia.org/resource/Aosta_Valley",
         "Valle d'Aosta"
        ],
        [
         "26",
         "http://dbpedia.org/resource/Veneto",
         "Veneto"
        ]
       ],
       "shape": {
        "columns": 2,
        "rows": 27
       }
      },
      "text/html": [
       "<div>\n",
       "<style scoped>\n",
       "    .dataframe tbody tr th:only-of-type {\n",
       "        vertical-align: middle;\n",
       "    }\n",
       "\n",
       "    .dataframe tbody tr th {\n",
       "        vertical-align: top;\n",
       "    }\n",
       "\n",
       "    .dataframe thead th {\n",
       "        text-align: right;\n",
       "    }\n",
       "</style>\n",
       "<table border=\"1\" class=\"dataframe\">\n",
       "  <thead>\n",
       "    <tr style=\"text-align: right;\">\n",
       "      <th></th>\n",
       "      <th>region</th>\n",
       "      <th>name</th>\n",
       "    </tr>\n",
       "  </thead>\n",
       "  <tbody>\n",
       "    <tr>\n",
       "      <th>0</th>\n",
       "      <td>http://dbpedia.org/resource/Friuli_Venezia_Giulia</td>\n",
       "      <td>Aeroporto di Trieste-Ronchi dei Legionari</td>\n",
       "    </tr>\n",
       "    <tr>\n",
       "      <th>1</th>\n",
       "      <td>http://dbpedia.org/resource/Aosta_Valley</td>\n",
       "      <td>Aosta</td>\n",
       "    </tr>\n",
       "    <tr>\n",
       "      <th>2</th>\n",
       "      <td>http://dbpedia.org/resource/Basilicata</td>\n",
       "      <td>Basilicata</td>\n",
       "    </tr>\n",
       "    <tr>\n",
       "      <th>3</th>\n",
       "      <td>http://dbpedia.org/resource/Calabria</td>\n",
       "      <td>Calabria</td>\n",
       "    </tr>\n",
       "    <tr>\n",
       "      <th>4</th>\n",
       "      <td>http://dbpedia.org/resource/Campania</td>\n",
       "      <td>Campania</td>\n",
       "    </tr>\n",
       "    <tr>\n",
       "      <th>5</th>\n",
       "      <td>http://dbpedia.org/resource/Calabria</td>\n",
       "      <td>Consiglio regionale della Calabria</td>\n",
       "    </tr>\n",
       "    <tr>\n",
       "      <th>6</th>\n",
       "      <td>http://dbpedia.org/resource/Friuli_Venezia_Giulia</td>\n",
       "      <td>Consiglio regionale del Friuli-Venezia Giulia</td>\n",
       "    </tr>\n",
       "    <tr>\n",
       "      <th>7</th>\n",
       "      <td>http://dbpedia.org/resource/Emilia-Romagna</td>\n",
       "      <td>Emilia</td>\n",
       "    </tr>\n",
       "    <tr>\n",
       "      <th>8</th>\n",
       "      <td>http://dbpedia.org/resource/Emilia-Romagna</td>\n",
       "      <td>Emilia-Romagna</td>\n",
       "    </tr>\n",
       "    <tr>\n",
       "      <th>9</th>\n",
       "      <td>http://dbpedia.org/resource/Friuli_Venezia_Giulia</td>\n",
       "      <td>Friuli</td>\n",
       "    </tr>\n",
       "    <tr>\n",
       "      <th>10</th>\n",
       "      <td>http://dbpedia.org/resource/Friuli_Venezia_Giulia</td>\n",
       "      <td>Friuli-Venezia Giulia</td>\n",
       "    </tr>\n",
       "    <tr>\n",
       "      <th>11</th>\n",
       "      <td>http://dbpedia.org/resource/Sicily</td>\n",
       "      <td>Isola di Sicilia</td>\n",
       "    </tr>\n",
       "    <tr>\n",
       "      <th>12</th>\n",
       "      <td>http://dbpedia.org/resource/Lazio</td>\n",
       "      <td>Latium</td>\n",
       "    </tr>\n",
       "    <tr>\n",
       "      <th>13</th>\n",
       "      <td>http://dbpedia.org/resource/Lazio</td>\n",
       "      <td>Lazio</td>\n",
       "    </tr>\n",
       "    <tr>\n",
       "      <th>14</th>\n",
       "      <td>http://dbpedia.org/resource/Liguria</td>\n",
       "      <td>Liguri</td>\n",
       "    </tr>\n",
       "    <tr>\n",
       "      <th>15</th>\n",
       "      <td>http://dbpedia.org/resource/Liguria</td>\n",
       "      <td>Liguria</td>\n",
       "    </tr>\n",
       "    <tr>\n",
       "      <th>16</th>\n",
       "      <td>http://dbpedia.org/resource/Marche</td>\n",
       "      <td>Marche</td>\n",
       "    </tr>\n",
       "    <tr>\n",
       "      <th>17</th>\n",
       "      <td>http://dbpedia.org/resource/Marche</td>\n",
       "      <td>Marken</td>\n",
       "    </tr>\n",
       "    <tr>\n",
       "      <th>18</th>\n",
       "      <td>http://dbpedia.org/resource/Molise</td>\n",
       "      <td>Molise</td>\n",
       "    </tr>\n",
       "    <tr>\n",
       "      <th>19</th>\n",
       "      <td>http://dbpedia.org/resource/Friuli_Venezia_Giulia</td>\n",
       "      <td>Provincia di Udine</td>\n",
       "    </tr>\n",
       "    <tr>\n",
       "      <th>20</th>\n",
       "      <td>http://dbpedia.org/resource/Apulia</td>\n",
       "      <td>Puglia</td>\n",
       "    </tr>\n",
       "    <tr>\n",
       "      <th>21</th>\n",
       "      <td>http://dbpedia.org/resource/Sicily</td>\n",
       "      <td>Sicilia</td>\n",
       "    </tr>\n",
       "    <tr>\n",
       "      <th>22</th>\n",
       "      <td>http://dbpedia.org/resource/Sicily</td>\n",
       "      <td>Sicilia (provincia romana)</td>\n",
       "    </tr>\n",
       "    <tr>\n",
       "      <th>23</th>\n",
       "      <td>http://dbpedia.org/resource/Tuscany</td>\n",
       "      <td>Toscana</td>\n",
       "    </tr>\n",
       "    <tr>\n",
       "      <th>24</th>\n",
       "      <td>http://dbpedia.org/resource/Umbria</td>\n",
       "      <td>Umbria</td>\n",
       "    </tr>\n",
       "    <tr>\n",
       "      <th>25</th>\n",
       "      <td>http://dbpedia.org/resource/Aosta_Valley</td>\n",
       "      <td>Valle d'Aosta</td>\n",
       "    </tr>\n",
       "    <tr>\n",
       "      <th>26</th>\n",
       "      <td>http://dbpedia.org/resource/Veneto</td>\n",
       "      <td>Veneto</td>\n",
       "    </tr>\n",
       "  </tbody>\n",
       "</table>\n",
       "</div>"
      ],
      "text/plain": [
       "                                               region  \\\n",
       "0   http://dbpedia.org/resource/Friuli_Venezia_Giulia   \n",
       "1            http://dbpedia.org/resource/Aosta_Valley   \n",
       "2              http://dbpedia.org/resource/Basilicata   \n",
       "3                http://dbpedia.org/resource/Calabria   \n",
       "4                http://dbpedia.org/resource/Campania   \n",
       "5                http://dbpedia.org/resource/Calabria   \n",
       "6   http://dbpedia.org/resource/Friuli_Venezia_Giulia   \n",
       "7          http://dbpedia.org/resource/Emilia-Romagna   \n",
       "8          http://dbpedia.org/resource/Emilia-Romagna   \n",
       "9   http://dbpedia.org/resource/Friuli_Venezia_Giulia   \n",
       "10  http://dbpedia.org/resource/Friuli_Venezia_Giulia   \n",
       "11                 http://dbpedia.org/resource/Sicily   \n",
       "12                  http://dbpedia.org/resource/Lazio   \n",
       "13                  http://dbpedia.org/resource/Lazio   \n",
       "14                http://dbpedia.org/resource/Liguria   \n",
       "15                http://dbpedia.org/resource/Liguria   \n",
       "16                 http://dbpedia.org/resource/Marche   \n",
       "17                 http://dbpedia.org/resource/Marche   \n",
       "18                 http://dbpedia.org/resource/Molise   \n",
       "19  http://dbpedia.org/resource/Friuli_Venezia_Giulia   \n",
       "20                 http://dbpedia.org/resource/Apulia   \n",
       "21                 http://dbpedia.org/resource/Sicily   \n",
       "22                 http://dbpedia.org/resource/Sicily   \n",
       "23                http://dbpedia.org/resource/Tuscany   \n",
       "24                 http://dbpedia.org/resource/Umbria   \n",
       "25           http://dbpedia.org/resource/Aosta_Valley   \n",
       "26                 http://dbpedia.org/resource/Veneto   \n",
       "\n",
       "                                             name  \n",
       "0       Aeroporto di Trieste-Ronchi dei Legionari  \n",
       "1                                           Aosta  \n",
       "2                                      Basilicata  \n",
       "3                                        Calabria  \n",
       "4                                        Campania  \n",
       "5              Consiglio regionale della Calabria  \n",
       "6   Consiglio regionale del Friuli-Venezia Giulia  \n",
       "7                                          Emilia  \n",
       "8                                  Emilia-Romagna  \n",
       "9                                          Friuli  \n",
       "10                          Friuli-Venezia Giulia  \n",
       "11                               Isola di Sicilia  \n",
       "12                                         Latium  \n",
       "13                                          Lazio  \n",
       "14                                         Liguri  \n",
       "15                                        Liguria  \n",
       "16                                         Marche  \n",
       "17                                         Marken  \n",
       "18                                         Molise  \n",
       "19                             Provincia di Udine  \n",
       "20                                         Puglia  \n",
       "21                                        Sicilia  \n",
       "22                     Sicilia (provincia romana)  \n",
       "23                                        Toscana  \n",
       "24                                         Umbria  \n",
       "25                                  Valle d'Aosta  \n",
       "26                                         Veneto  "
      ]
     },
     "execution_count": 8,
     "metadata": {},
     "output_type": "execute_result"
    }
   ],
   "source": [
    "# 4.\n",
    "# ?? exploring the current regional data –> stuff is missing, Wikidata needs to be used to reconcile this\n",
    "# \n",
    "\n",
    "regions_of_italy_query = \"\"\"\n",
    "SELECT DISTINCT ?region ?name WHERE {\n",
    "  ?region dct:subject dbc:Regions_of_Italy .\n",
    "  ?region rdf:type dbo:Region .\n",
    "  ?region dbo:country dbr:Italy .\n",
    "  ?region rdfs:label ?name .\n",
    "  FILTER (lang(?name) = 'it')\n",
    "}\n",
    "ORDER BY ?name\n",
    "\"\"\"\n",
    "\n",
    "\n",
    "regions_of_italy = run_query(regions_of_italy_query)\n",
    "regions_of_italy"
   ]
  },
  {
   "cell_type": "code",
   "execution_count": null,
   "id": "524f92a1",
   "metadata": {},
   "outputs": [],
   "source": [
    "# 5.\n",
    "# ?? the labels in the dataset require conversion from Italian to English\n",
    "# \n",
    "\n",
    "def convert_italian_to_english_label(italian_region_name) -> str:\n",
    "  basic_query = \"\"\"\n",
    "  SELECT ?region ?english_region_name ?italian_region_name \n",
    "  WHERE {\n",
    "    ?region wdt:P31 ?region_type.\n",
    "    VALUES ?region_type { wd:Q16110 wd:Q1710033 }       \n",
    "\n",
    "    SERVICE wikibase:label {\n",
    "      bd:serviceParam wikibase:language \"en\" .\n",
    "      ?region rdfs:label ?english_region_name .\n",
    "    }\n",
    "    SERVICE wikibase:label {\n",
    "      bd:serviceParam wikibase:language \"it\" .\n",
    "      ?region rdfs:label ?italian_region_name .\n",
    "    }\n",
    "  }\n",
    "  ORDER BY ?english_region_name\n",
    "  \"\"\"\n",
    "\n",
    "\n",
    "  italian_regions = run_query(basic_query, endpoint=\"https://query.wikidata.org/sparql\")\n",
    "  match = italian_regions[italian_regions['italian_region_name'] == italian_region_name] # type: ignore\n",
    "  if not match.empty: # type: ignore\n",
    "      return match.iloc[0]['english_region_name'] # type: ignore\n",
    "  else:\n",
    "      return f\"Region '{italian_region_name}' not found\" # type: ignore"
   ]
  },
  {
   "cell_type": "code",
   "execution_count": null,
   "id": "e6133bb4",
   "metadata": {},
   "outputs": [],
   "source": [
    "# 6.\n",
    "# ?? exploring the current regional data –> stuff is missing, Wikidata needs to be used to reconcile this\n",
    "# \n",
    "\n",
    "from urllib.parse import quote\n",
    "\n",
    "def get_region_pages():\n",
    "    metadata_df = pd.read_excel(\"kiparla-data/metadata/KIPasti_conversations.xlsx\", keep_default_na=False)\n",
    "    # dbpedia_base_url = \"https://dbpedia.org/page/\"\n",
    "\n",
    "    regions = set()\n",
    "    # region_links = \n",
    "\n",
    "    for italian_region_name in metadata_df[\"region\"]:\n",
    "        italian_region_name = italian_region_name.strip().capitalize()\n",
    "        if '-' in italian_region_name:\n",
    "            italian_region_name = '-'.join(region_name_part.capitalize() for region_name_part in italian_region_name.split(\"-\"))\n",
    "        regions.add(italian_region_name)\n",
    "\n",
    "    regions = sorted(regions)\n",
    "    regions = [convert_italian_to_english_label(region) for region in regions]\n",
    "\n",
    "    # for region in regions:\n",
    "    #     region = region.replace(\"-\", \"_\")\n",
    "    #     dbpedia_url = dbpedia_base_url + quote(region)\n",
    "    #     print(dbpedia_url)\n",
    "    \n",
    "    region_page_resources = [\"dbr:\" + region_name for region_name in regions]\n",
    "    region_page_resources_str = ' '.join(region_page_resources)\n",
    "    \n",
    "    return region_page_resources_str\n"
   ]
  },
  {
   "cell_type": "code",
   "execution_count": 177,
   "id": "a7e36bc3",
   "metadata": {},
   "outputs": [
    {
     "data": {
      "application/vnd.microsoft.datawrangler.viewer.v0+json": {
       "columns": [
        {
         "name": "index",
         "rawType": "int64",
         "type": "integer"
        },
        {
         "name": "region",
         "rawType": "object",
         "type": "string"
        },
        {
         "name": "abstract",
         "rawType": "object",
         "type": "string"
        }
       ],
       "ref": "97d74d37-f540-4559-8663-69d4a1ebbb5e",
       "rows": [
        [
         "0",
         "http://dbpedia.org/resource/Abruzzo",
         "L'Abruzzo (o gli Abruzzi) (AFI: /aˈbruʦʦo/) è una regione a statuto ordinario dell'Italia meridionale, con capoluogo L'Aquila, compresa tra il medio Adriatico e l'Appennino centrale. Estesa su una superficie di 10 831 km², ha una popolazione di 1 271 825 abitanti ed è divisa in quattro province (L'Aquila, Chieti, Pescara e Teramo) e 305 comuni. Confina a nord con le Marche, a est col mare Adriatico, a ovest col Lazio e a sud col Molise: si divide principalmente in una parte costiera-collinare sul versante orientale con le spiagge e le colline prospicienti l'Adriatico, e una parte montuosa sul lato occidentale con i Monti della Laga (2.458 m s.l.m), il Gran Sasso d'Italia (2 914 m s.l.m.), la Maiella (2 793 m s.l.m.), il Sirente-Velino (2 487 m s.l.m.) e i Monti Marsicani (2.283 m s.l.m.), che costituiscono i principali massicci montuosi della catena appenninica. Pur essendo situato al centro della penisola italiana, l'Abruzzo è storicamente, culturalmente, economicamente e in gran parte anche linguisticamente legato all'Italia meridionale, anche secondo le definizioni adottate da Istat ed Eurostat."
        ],
        [
         "1",
         "http://dbpedia.org/resource/Apulia",
         "La Puglia (AFI: /ˈpuʎʎa/; Apulia in latino, Ἰαπυγία Iapygia in greco antico, Apùlia in arbëresh) è una regione italiana a statuto ordinario dell'Italia meridionale, di 3 897 741 abitanti, con capoluogo Bari. Confina a nord-ovest con il Molise e a ovest con la Campania e la Basilicata, mentre è bagnata a est e a nord dal mare Adriatico e a sud dal mar Ionio. Comprende la città metropolitana di Bari (capoluogo) e le province di Foggia, Barletta-Andria-Trani, Taranto, Brindisi e Lecce. La Puglia è la regione più orientale d'Italia: la località più a est è Punta Palascìa (Otranto), distante 72 chilometri da Capo Linguetta, la punta più settentrionale della Penisola di Karaburun, in Albania, e 80 chilometri dall'isola greca di Fanò. Mappa della Puglia ad alta definizioneIl nuovo palazzo della Regione Puglia, inaugurato nel 2020"
        ],
        [
         "2",
         "http://dbpedia.org/resource/Basilicata",
         "La Basilicata (AFI: /baziliˈkata/) è una regione italiana a statuto ordinario dell'Italia meridionale con capoluogo Potenza. Conta 536 933 abitanti. È detta anche Lucania, denominazione che fu ufficiale dal 1932 al 1947 oltre a identificare anticamente una regione dai confini differenti, che inglobava gran parte di quella odierna. Confina a nord e a est con la Puglia, a nord e a ovest con la Campania, a sud con la Calabria, a sud-ovest è bagnata dal mar Tirreno (Golfo di Policastro) e a sud-est dal mar Ionio (Golfo di Taranto). È divisa in due province: Potenza e Matera, e comprende 131 comuni. I residenti della Basilicata sono noti come lucani e, in forme meno diffuse, basilicatesi o basilischi."
        ],
        [
         "3",
         "http://dbpedia.org/resource/Calabria",
         "La Calabria (AFI: /kaˈlabrja/; Calabria in calabrese, Kalavrìa in grecanico, Kalabrì in arbëresh, Calabria in occitano) è una regione italiana a statuto ordinario dell'Italia meridionale di 1 834 773 abitanti, con capoluogo Catanzaro. Confina a nord con la Basilicata, a sud-ovest lo stretto di Messina la separa dalla Sicilia ed è bagnata a est dal mar Ionio e ad ovest dal mar Tirreno. È il primo territorio ad aver storicamente ricevuto il nome di Italia, dato dagli antichi greci all'istmo di Catanzaro che, al loro arrivo nell'area, era sotto il domino di Italo, re degli enotri. Abitata sin dal paleolitico, come dimostra la grotta del Romito, grazie alla sua posizione strategica al centro del Mediterraneo ha visto il fiorire di numerose culture: enotria, bruzia, greca, romana, bizantina, normanna. Quello greco rappresenta per la Calabria il periodo di massimo splendore, con la fondazione a partire dall'VIII secolo a.C. di numerose città che saranno per secoli fra le più ricche e culturalmente avanzate del loro tempo, costituendo il fulcro del territorio successivamente ribattezzato Magna Grecia dai conquistatori romani. Le principali póleis erano Sybaris (poi sostituita da Thurii), Kroton, Locri Epizefiri e Rhegion, a cui si aggiungevano Kaulon, Hipponion, Skylletion, Terina, Medma, Metauros e Laos. Nel IV secolo a.C. la città di Cosentia assunse il ruolo di capitale dei Bruzi esercitando un ruolo egemonico nella regione sino alla conquista da parte dei romani. In epoca romana è parte della Regio III Lucania et Bruttii, una regione dell'Italia augustea. Dopo la guerra greco-gotica diviene e rimane per ben cinque secoli un dominio bizantino (Ducato di Calabria, poi eretto a Thema), recuperando pienamente il suo carattere ellenico sul piano linguistico, religioso e artistico. Fiorisce il cenobitismo, col sorgere in tutto il territorio di innumerevoli chiese (fra cui la spettacolare Cattolica di Stilo), eremi e monasteri in cui moltitudini di monaci basiliani calabro-greci si dedicano alla trascrizione di testi classici e religiosi. Sono i bizantini a introdurre l'arte della seta a Catanzaro; città che diverrà, nei secoli a seguire, il più importante centro serico d'Europa. Nell'XI secolo, l'avvento dei normanni dà il via a un lento processo di latinizzazione della Calabria, e la penisola inizia a seguire le sorti del resto del Meridione: farà parte del Regno di Sicilia, del Regno di Napoli e del Regno delle Due Sicilie, prima di convergere nell'Italia unita. Nell'area della Bovesìa esistono ancora oggi delle comunità di lingua grecanica, variante locale della lingua greca che affonda le sue origini nei periodi bizantino. Nella parte centro-settentrionale della penisola sono invece numerosi i comuni di lingua arbëreshe, variante locale della lingua albanese, fondati fra XV e XVIII secolo da esuli albanesi che si rifugiarono in Italia per sfuggire all'invasione ottomana dei Balcani. Vi è inoltre a Guardia Piemontese, una minoranza di lingua occitana. Sul territorio calabrese insistono tre parchi nazionali: quelli del Pollino (il più grande d'Italia), della Sila e dell'Aspromonte, e un parco regionale, le Serre."
        ],
        [
         "4",
         "http://dbpedia.org/resource/Calabria",
         "Il Consiglio regionale della Calabria è l'organo legislativo rappresentativo della Regione Calabria. Istituito nel 1970, è composto dal Presidente e da 30 consiglieri a partire dalla X legislatura. Ha sede nella città di Reggio Calabria, presso il palazzo Campanella in Via Cardinale Gennaro Portanova - 89123."
        ],
        [
         "5",
         "http://dbpedia.org/resource/Campania",
         "La Campania (AFI: /kamˈpanja/) è una regione italiana a statuto ordinario dell'Italia meridionale di 5 599 693 abitanti. È la regione più popolosa e più densamente popolata del Mezzogiorno; a livello nazionale è terza per numero di abitanti (dopo la Lombardia e il Lazio) e seconda per densità di popolazione, preceduta soltanto dalla Lombardia. Ha una superficie di 13670,95 km². È situata tra il mar Tirreno a sud-ovest e l'Appennino meridionale a nord-est. La regione confina a nord-ovest con il Lazio, a nord con il Molise, a nord-est con la Puglia e a est con la Basilicata. Oltre al capoluogo di regione Napoli, le città capoluogo di provincia sono Avellino, Benevento, Caserta e Salerno. Lungo le coste della Campania sono presenti quattro golfi: il golfo di Gaeta, il golfo di Napoli, il golfo di Salerno e il golfo di Policastro. L'entroterra era abitato già agli inizi del I millennio a.C. dagli osci, cui seguirono i sanniti di stirpe italica. Dall'VIII secolo a.C. lungo la costa si svilupparono diversi insediamenti di popolazioni di civiltà greca dai quali ebbero origine le colonie magnogreche di Pithecusa, Cuma, Parthenope, Neapolis e Poseidonia. La pianura campana costituì anche l'estremo limite meridionale dell'espansione etrusca. Nella seconda metà del IV secolo a.C., con le guerre sannitiche la regione fu posta sotto l'influenza di Roma, che la ribattezzò Campania felix in riferimento alla sua prosperità, benché il territorio della Campania antica corrispondesse solo parzialmente a quello della regione moderna. Con il tramonto della civiltà romana si disgregò anche l'unità politica della regione, che dal VI secolo finì in gran parte sotto l'influenza longobarda e in misura minore sotto quella bizantina. Nel XII secolo, con l'ascesa della dinastia normanna, la regione trovò unità politica sotto la corona del Regno di Sicilia (con l'eccezione della città di Benevento, che fu invece assoggettata allo Stato della Chiesa). Dal XIII secolo al XIX, con il susseguirsi delle dinastie angioine, aragonesi e borboniche, il regno di Napoli, e in particolare la capitale e la sua corte, divennero uno dei principali poli culturali, artistici ed economici d'Europa. In epoca contemporanea la regione, con il resto del Mezzogiorno, attraversa invece una situazione di persistente difficoltà di sviluppo socio-economico rispetto al nord del Paese, nota come questione meridionale. La Campania è la prima regione italiana per siti ed elementi iscritti nelle liste dei patrimoni dell'umanità dell'UNESCO, grazie a 10 riconoscimenti: la dieta mediterranea, l'arte dei \"pizzaiuoli\" napoletani, le macchine a spalla di Nola, il centro storico di Napoli, la reggia di Caserta, il complesso monumentale di Santa Sofia di Benevento, Pompei con Ercolano e Oplonti, la costiera amalfitana, il parco nazionale del Cilento con Paestum, Velia e la certosa di Padula, nonché la transumanza. In Campania si trovano 5 dei primi 20 siti statali più visitati nel 2020 secondo il Ministero dei Beni e delle Attività culturali."
        ],
        [
         "6",
         "http://dbpedia.org/resource/Emilia-Romagna",
         "L'Emilia (Emeja, Emélia, Emégglia o Emilia in emiliano) è una regione storica dell'Italia settentrionale, che insieme alla Romagna forma la regione amministrativa dell'Emilia-Romagna.Prende il nome dalla Via Emilia, strada fatta costruire dal console romano Emilio Lepido per collegare tra loro le città di Rimini e Piacenza. Sin dall'891 i territori emiliani di Piacenza, Parma, Reggio e Modena furono però ricompresi nella Marca di Lombardia; da allora e fino all'epoca moderna l'Emilia fu pertanto considerata parte della Lombardia (con tale coronimo si intendeva, a quel tempo, una vasta area dell'Italia settentrionale), e precisamente denominata \"Lombardia al di qua del Po\". Tuttavia il nome \"Emilia\" continuò a restare in uso fino al XIX secolo assieme alle definizioni, talvolta sovrapponibili su alcuni territori, di Lombardia (nella sua accezione storica) e Romagna, nonché quelle dei cosiddetti Ducati emiliani per definire le medesime aree (di Modena, Reggio, Parma e Piacenza), accanto proprio all’uso di \"Lombardia\" e \"Romagna\", o \"Romagne\" ogniqualvolta si volesse indicare la Romagna con Bologna e, non di rado, Ferrara. Nel 1871, tale denominazione fu resa ufficiale per includere l'intero territorio storico compreso tra Piacenza e Rimini (inclusa quindi la Romagna) nel nuovo compartimento statistico dell’Emilia, composto dai precedenti Parma-Piacenza, Modena-Reggio-Massa e Romagne. Per la denominazione regionale amministrativa \"Emilia-Romagna\" (che ha infine delineato il senso moderno di Emilia, ovvero del tutto corrispondente a quello ormai obsoleto di \"Bassa Lombardia\", in contrapposizione all’Emilia che rievoca la storica regione romana antica, grossomodo congruente con l’attuale Emilia-Romagna), bisognerà aspettare invece l’Italia repubblicana."
        ],
        [
         "7",
         "http://dbpedia.org/resource/Emilia-Romagna",
         "L'Emilia-Romagna (IPA: /eˈmilja roˈmaɲɲa/; Emilia, Emélia o Emégglia in emiliano e Rumâgna in romagnolo) è una regione italiana a statuto ordinario dell'Italia nord-orientale di 4 426 432 abitanti. Prefigurata nel 1948, venne istituita ufficialmente il 7 giugno 1970 con le prime elezioni regionali. Il capoluogo è la città metropolitana di Bologna.Confina a nord con Lombardia e Veneto, a ovest ancora con la Lombardia e con il Piemonte, a sud con Liguria, Toscana, Marche e la Repubblica di San Marino. A est è bagnata dal Mare Adriatico. L'Emilia-Romagna è composta dall'unione delle parti comprese entro il territorio regionale di due regioni storiche con caratteristiche linguistiche, geografiche e storico-culturali distinte: \n* l'Emilia, che comprende le province di Piacenza, Parma, Reggio Emilia, Modena, Ferrara e la maggior parte della Città metropolitana di Bologna; \n* la Romagna, che comprende le province di Ravenna, Forlì-Cesena, Rimini e i comuni della Città metropolitana di Bologna situati a est del torrente Sillaro (Dozza, Imola, Mordano, Casalfiumanese, Borgo Tossignano, Fontanelice, Castel del Rio)."
        ],
        [
         "8",
         "http://dbpedia.org/resource/Lazio",
         "Il Latium (Lătĭŭm, in italiano Lazio) fu una regione storico-geografica costituita in origine (Latium vetus) da una parte limitata dell'attuale regione Lazio, compresa tra il corso inferiore del Tevere (che lo divideva dai territori etruschi dell'Etruria), il mar Tirreno, le paludi pontine e i monti Sabini. Tale territorio costituiva la patria degli antichi Latini. In seguito il suo territorio si estese temporaneamente verso sud (Latium adiectum) fin oltre il fiume Garigliano (presso la città di Sinuessa) che lo divideva dalla Campania, e fino alla città di Casinum, odierna Cassino, a sud nell'interno, limitato dalla costa tirrenica e esteso sulle propaggini degli Appennini verso l'interno, fino al Sannio; tali territori erano però abitati da popolazioni diverse (Volsci, Equi, Ernici, Aurunci). A partire dall'epoca imperiale il Latium fu annesso dapprima alla Regio I Latium et Campania, poi (IV secolo) alla provincia di Campania, avente per capoluogo Capua."
        ],
        [
         "9",
         "http://dbpedia.org/resource/Lazio",
         "Il Lazio è una regione a statuto ordinario dell'Italia centrale, con capoluogo Roma. Con 5 707 670 abitanti è la seconda regione più popolata d'Italia dopo la Lombardia, e la nona per estensione della superficie. Confina a nord-ovest con la Toscana, a nord con l'Umbria, a nord-est con le Marche e l'Abruzzo e a sud-est con il Molise e la Campania. A ovest invece è bagnato dal mar Tirreno, al suo interno è presente la piccola enclave della Città del Vaticano. Nella remota antichità il Lazio (Latium) comprendeva soltanto una parte limitata dell'attuale regione, compresa tra il corso inferiore del Tevere, il mar Tirreno, le paludi pontine e i monti Sabini."
        ],
        [
         "10",
         "http://dbpedia.org/resource/Lombardy",
         "Il Consiglio regionale è l'organo legislativo della regione Lombardia; ha sede a Milano, in via Fabio Filzi 22, nel Grattacielo Pirelli. L'attuale presidente è , appartenente a Forza Italia ed eletto nel corso della prima seduta del Consiglio, il 5 aprile 2018. Istituito nel 1970, si compone attualmente di 80 seggi, tra i quali è compreso quello del Presidente della Regione. La legislatura è di cinque anni."
        ],
        [
         "11",
         "http://dbpedia.org/resource/Lombardy",
         "La Lombardia (AFI: /lombar'dia/ in italiano; /lombar'dia/, /lumbar'dia/ o /lumbar'dea/ in lombardo) è una regione italiana a statuto ordinariodi 9 947 340 abitanti dell'Italia nord-occidentale, prefigurata nel 1948 e istituita nel 1970. Il suo territorio è suddiviso in 1 506 comuni (regione con il maggior numero di comuni su tutto il territorio nazionale), distribuiti in dodici enti di area vasta (undici province più la città metropolitana di Milano). La regione si posiziona prima in Italia per popolazione, densità abitativa e numero di enti locali, mentre è quarta per superficie, dopo Sicilia, Piemonte e Sardegna. Ha il suo capoluogo nella città di Milano. Confina a nord con la Svizzera (Canton Ticino e Cantone dei Grigioni), a ovest con il Piemonte, a est con il Veneto e il Trentino-Alto Adige e a sud con l'Emilia-Romagna."
        ],
        [
         "12",
         "http://dbpedia.org/resource/Marche",
         "Marken (ˈmɑrkə(n); dialetto di Marken: Mereke) è un villaggio di 1.810 abitanti nella municipalità di Waterland nei Paesi Bassi. Marken forma una penisola nel Markermeer e precedentemente un'isola nello . Il prosciugamento dei polder circostanti ha cambiato la morfologia del territorio rendendolo una penisola questo antico villaggio di pescatori. Presenta case di legno conservate perfettamente."
        ],
        [
         "13",
         "http://dbpedia.org/resource/Marche",
         "Le Marche sono una regione italiana a statuto ordinario dell'Italia centrale di 1 482 908 abitanti, con capoluogo Ancona, affacciata verso est sul mar Adriatico. L'Appennino umbro-marchigiano segna ad ovest il confine con la Toscana e l'Umbria; a nord la regione confina con l'Emilia-Romagna e la Repubblica di San Marino, a sud con l'Abruzzo e il Lazio. Sono parte dell'Euroregione Adriatico Ionica il cui forum (Iniziativa Adriatico Ionica) ha la sede del segretariato ad Ancona. La regione si distingue per una forte omogeneità: gran parte del territorio è collinare, i centri abitati sono per lo più posti sulle sommità dei rilievi e il paesaggio agrario, derivato dalla mezzadria, è ovunque caratterizzato da numerosi piccoli appezzamenti, bordati da querce secolari e segnati da case coloniche; la percentuale di popolazione sparsa è a tal proposito tra le più alte d'Italia. Dal punto di vista antropico la regione è altrettanto omogenea: nonostante la notevole varietà dei dialetti, l'indole degli abitanti è descritta nei testi come uniforme in tutto il territorio. Inoltre, la Storia marchigiana è stata caratterizzata da una serie di autonomie parallele in ogni zona; lo stesso plurale del nome ne sancisce infatti l'unità fondamentale pur nella ricchezza di aspetti locali. La vocazione all'autonomia di ogni zona è anzi paradossalmente il fattore maggiormente unificante. L'economia si caratterizza per un modello economico-imprenditoriale peculiare, definito \"\". La regione si caratterizza anche per una singolare ricchezza di artisti e studiosi celebri a livello internazionale: Raffaello Sanzio (1483 - 1520), il genio urbinate che fu uno tra i maggiori interpreti della pittura del Rinascimento; Gioachino Rossini (1792 - 1868), uno dei più grandi compositori operisti della storia della musica; Giacomo Leopardi (1798 - 1837), tra i maggiori poeti dell'Ottocento italiano e una delle più importanti figure della letteratura mondiale; Maria Montessori (1870 - 1952), nota per il suo rivoluzionario metodo didattico, applicato in migliaia di scuole in tutto il mondo; Gentile da Fabriano (1370 - 1427), pittore tra i più rappresentativi del Gotico internazionale; Ciriaco d'Ancona (1391 - 1452), padre dell'Archeologia; Donato Bramante (1444 - 1514), architetto e pittore, tra i principali artisti del Rinascimento; Padre Matteo Ricci (1552 - 1610), tra i più grandi divulgatori della cultura occidentale in Cina e studioso della civiltà orientale; infine i due celebri compositori Giovanni Battista Pergolesi (1710 - 1736) e Gaspare Spontini (1774 - 1851)."
        ],
        [
         "14",
         "http://dbpedia.org/resource/Sardinia",
         "Il Regno di Sardegna fu un'entità statuale dell'Europa meridionale che esistette tra il 1297 e il 1861, quando cambiò formalmente denominazione in Regno d'Italia. Il Regno di Sardegna fu creato in ottemperanza al trattato di Anagni da papa Bonifacio VIII con il nome di Regnum Sardiniae et Corsicae, divenendo il 5 aprile 1297 una nazione costitutiva della Corona d'Aragona. Alla sua creazione, la Corsica si trovava in una situazione di sostanziale anarchia, mentre la Sardegna era suddivisa tra il Giudicato di Arborea, i territori d'oltremare della Repubblica di Pisa, il libero comune di Sassari e tre stati signorili appartenenti ai della Gherardesca, ai Malaspina e ai Doria. A partire dal 1323 gli aragonesi iniziarono la conquista della Sardegna, inglobandola completamente nel Regno di Sardegna e Corsica solo nel 1420 al termine della guerra sardo-catalana. Rinominato semplicemente \"Regno di Sardegna\" nel 1479, il regno rimase parte della Corona d'Aragona fino al 1516, quando in seguito all'unione dinastica con la Corona di Castiglia passò alla Corona di Spagna. Nel 1700, con lo scoppio della guerra di successione spagnola, il Regno di Sardegna fu conteso tra gli Asburgo e i Borbone fino al 1720, quando come detto fu consegnato ai Savoia, che accettarono controvoglia solo nel 1723. Il Regno di Sardegna andò ad aggiungersi agli altri stati locali sabaudi, il principato di Piemonte, la contea di Nizza, il ducato di Aosta, il ducato del Monferrato e il ducato di Savoia, sostituendo quest'ultimo nel più prestigioso rango aristocratico del gruppo, come per pochi anni aveva fatto il Regno di Sicilia. Se i cosiddetti Stati di terraferma furono amalgamati in uno stato assoluto fin dal Settecento, cedendo il passo a divisioni e province riducendosi a puri titoli nobiliari, la Sardegna mantenne le proprie istituzioni storiche particolari fino al 3 dicembre 1847, quando con la fusione perfetta l'assetto amministrativo centralista di modello napoleonico venne imposto anche all'isola."
        ],
        [
         "15",
         "http://dbpedia.org/resource/Sardinia",
         "La Sardegna (AFI: /sarˈdeɲɲa/; Sardìgna o Sardìnnia in sardo) è una regione italiana a statuto speciale di 1 573 089 abitanti con capoluogo Cagliari, la cui denominazione bilingue utilizzata nella comunicazione ufficiale è Regione Autonoma della Sardegna / Regione Autònoma de Sardigna. Istituita nel 1948, è divisa amministrativamente in quattro province, una città metropolitana e 377 comuni, ha una popolazione di 1 571 194 abitanti, che con un territorio di 24 100 km² ne fa la terza regione d'Italia per superficie e terzultima per densità (66 ab./km²). È situata nel Mediterraneo occidentale e il suo territorio coincide con l'arcipelago sardo, costituito quasi interamente dall'isola di Sardegna e da un considerevole numero di piccole isole e arcipelaghi circostanti. La sua posizione strategica e la sua ricchezza di minerali hanno favorito nell'antichità il suo popolamento e lo svilupparsi di traffici commerciali e scambi culturali tra i suoi abitanti e i popoli rivieraschi. Ricca di montagne, boschi, pianure, territori in gran parte disabitati, corsi d'acqua, coste rocciose e lunghe spiagge sabbiose, per la varietà dei suoi ecosistemi l'isola è stata definita metaforicamente come un micro-continente. In epoca moderna molti viaggiatori e scrittori hanno esaltato la sua bellezza, rimasta incontaminata almeno fino all'età contemporanea, nonché immersa in un paesaggio che ospita le vestigia della civiltà nuragica."
        ],
        [
         "16",
         "http://dbpedia.org/resource/Sardinia",
         "La Sardegna è un'isola del mar Mediterraneo occidentale, la seconda per estensione e per popolazione dopo la Sicilia. Amministrativamente è territorio della Repubblica Italiana e rientra nell'omonima regione a statuto speciale. Occupa una superficie di 23812,6 km²."
        ],
        [
         "17",
         "http://dbpedia.org/resource/Tuscany",
         "La Toscana (AFI: /tosˈkana/) è una regione italiana a statuto ordinario di 3 654 682 abitanti, situata nell'Italia centrale, con capoluogo Firenze. Confina a nord-ovest con la Liguria, a nord con l'Emilia-Romagna, a est con le Marche e l'Umbria, a sud con il Lazio. A ovest, i suoi 397 km di coste continentali sono bagnati dal Mar Ligure nel tratto centro-settentrionale tra Carrara (foce del torrente Parmignola, confine con la Liguria) e il Golfo di Baratti; il Mar Tirreno bagna invece il tratto costiero meridionale tra il promontorio di Piombino e la foce del Chiarone, che segna il confine con il Lazio. Il capoluogo regionale è Firenze, la città più popolata (382 000 abitanti), nonché principale fulcro storico, artistico ed economico-amministrativo; le altre città capoluogo di provincia sono: Arezzo, Grosseto, Livorno, Lucca, Massa, Pisa, Pistoia, Prato e Siena. Amministra anche le isole dell'arcipelago toscano, oltre a una piccola exclave situata entro i confini dell'Emilia-Romagna, in cui sono situate alcune frazioni del comune di Badia Tedalda. Il nome è antichissimo e deriva dall'etnonimo usato dai Latini per definire la terra abitata dagli Etruschi: \"Etruria\", trasformata poi in \"Tuscia\" e poi in \"Toscana\". Anche i confini della odierna Toscana corrispondono in linea di massima a quelli dell'Etruria antica, che comprendevano anche parti delle attuali regioni Lazio e Umbria, fino al Tevere. Fino al 1861 è stata un'entità indipendente, nota con il nome di Granducato di Toscana con una enclave costituita dalla Repubblica e poi Ducato di Lucca. Da allora ha fatto parte del Regno di Sardegna, del Regno d'Italia e successivamente della Repubblica Italiana. In epoca granducale aveva anche un inno, composto dal fiorentino Egisto Mosell ed intitolato La Leopolda. La festa regionale, istituita nel 2001, ricorre il 30 novembre, nel ricordo del suddetto giorno del 1786 in cui furono abolite la pena di morte e la tortura nel Granducato di Toscana, primo Ordinamento al mondo ad abolire legalmente la pena di morte. Palazzo Vecchio, luogo simbolo di Firenze e della Toscana"
        ],
        [
         "18",
         "http://dbpedia.org/resource/Umbria",
         "L'Umbria (AFI: /ˈumbrja/) è una regione dell'Italia centrale posta nel cuore della penisola, storicamente la terra abitata in età antica dagli Umbri, da cui prende il nome: con una superficie di 8.456 km² (dei quali 6.334 nella provincia di Perugia e 2.122 nella provincia di Terni) ed una popolazione di 855 244 abitanti, è l'unica regione non situata ai confini politici o marittimi dello Stato italiano e, con soli 92 comuni, la regione a statuto ordinario con il minor numero di comuni. Confinante ad est e a nord-est con le Marche, ad ovest e a nord-ovest con la Toscana, a sud e a sud-ovest con il Lazio, comprendendo anche un'exclave nelle Marche che appartiene al comune di Città di Castello, il capoluogo regionale è Perugia mentre le province sono quelle di Perugia e Terni con i centri maggiori non capoluogo rappresentati da Foligno, Città di Castello, Umbertide, Spoleto, Gubbio, Gualdo Tadino, Assisi, Bastia Umbra, Orvieto, Amelia, Narni, Marsciano, Spello e Todi. Caratterizzata da una spiccata varietà paesaggistica, in virtù del continuo susseguirsi di aree collinari e fondovalle fluviali, questo articolato sistema orografico, che si identifica con le zone della Valle Umbra e della Valtiberina, nel settore orientale e meridionale della regione si innalza progressivamente con le dorsali montuose della Valnerina fino a superare i 2.400 metri (gruppo del Monte Vettore) nel massiccio dei Sibillini, condiviso con le Marche. L'idrografia offre il quarto lago naturale più esteso d'Italia, il Trasimeno, il lago di Piediluco (condiviso col Lazio) e il bacino artificiale di Corbara; nella regione scorrono inoltre molti torrenti di ridotte dimensioni e numerosi fiumi: i maggiori tra questi sono il Tevere, che raccoglie quasi tutte le acque degli altri fiumi umbri, il Nera (116 km), il Paglia (86 km), il Chiascio (82 km), il Topino (77 km) e il Nestore (42 km). Il variegato territorio regionale è costellato da città ed insediamenti ricchi di storia e tradizioni. La regione, abitata già in epoca protostorica dagli Umbri e dagli Etruschi, fu poi al centro della Regio VI Umbria et ager Gallicus dell'Impero romano. Con gran parte del suo territorio incluso per secoli nel Ducato di Spoleto a sud, nell'Impero bizantino al centro e nel Ducato di Tuscia a nord durante il Regno Longobardo in Italia, il suo territorio dopo vari secoli di lotte entrò a far parte dello Stato Pontificio. Le è stato dedicato un asteroide, 117093 Umbria."
        ],
        [
         "19",
         "http://dbpedia.org/resource/Veneto",
         "Il Veneto (Vèneto in veneto /ˈvɛːneto/, Veneto in ladino, Venedigen in cimbro, Venit in friulano), ufficialmente Regione del Veneto, è una regione italiana a statuto ordinario di 4 840 750 abitanti situata nell'Italia nord-orientale, con capitale storica e capoluogo amministrativo la città di Venezia. Quarta regione per popolazione d'Italia, dopo Lombardia, Lazio e Campania, confinante a nord con l'Austria, a nord-ovest con il Trentino-Alto Adige, a sud con l'Emilia-Romagna, a sud-ovest con la Lombardia, a est con il Friuli-Venezia Giulia e a sud-est con il mare Adriatico, insieme con Trentino-Alto Adige e Friuli-Venezia Giulia costituisce la macroarea del Triveneto o delle Tre Venezie. Quinta regione più visitata in Europa e prima in Italia secondo i dati Eurostat, con 19,6 milioni di arrivi e 69,2 milioni di presenze turistiche nel 2018, prende il nome dal popolo dei Veneti, popolazione indoeuropea che si insediò nel territorio dopo la metà del II millennio a.C."
        ]
       ],
       "shape": {
        "columns": 2,
        "rows": 20
       }
      },
      "text/html": [
       "<div>\n",
       "<style scoped>\n",
       "    .dataframe tbody tr th:only-of-type {\n",
       "        vertical-align: middle;\n",
       "    }\n",
       "\n",
       "    .dataframe tbody tr th {\n",
       "        vertical-align: top;\n",
       "    }\n",
       "\n",
       "    .dataframe thead th {\n",
       "        text-align: right;\n",
       "    }\n",
       "</style>\n",
       "<table border=\"1\" class=\"dataframe\">\n",
       "  <thead>\n",
       "    <tr style=\"text-align: right;\">\n",
       "      <th></th>\n",
       "      <th>region</th>\n",
       "      <th>abstract</th>\n",
       "    </tr>\n",
       "  </thead>\n",
       "  <tbody>\n",
       "    <tr>\n",
       "      <th>0</th>\n",
       "      <td>http://dbpedia.org/resource/Abruzzo</td>\n",
       "      <td>L'Abruzzo (o gli Abruzzi) (AFI: /aˈbruʦʦo/) è ...</td>\n",
       "    </tr>\n",
       "    <tr>\n",
       "      <th>1</th>\n",
       "      <td>http://dbpedia.org/resource/Apulia</td>\n",
       "      <td>La Puglia (AFI: /ˈpuʎʎa/; Apulia in latino, Ἰα...</td>\n",
       "    </tr>\n",
       "    <tr>\n",
       "      <th>2</th>\n",
       "      <td>http://dbpedia.org/resource/Basilicata</td>\n",
       "      <td>La Basilicata (AFI: /baziliˈkata/) è una regio...</td>\n",
       "    </tr>\n",
       "    <tr>\n",
       "      <th>3</th>\n",
       "      <td>http://dbpedia.org/resource/Calabria</td>\n",
       "      <td>La Calabria (AFI: /kaˈlabrja/; Calabria in cal...</td>\n",
       "    </tr>\n",
       "    <tr>\n",
       "      <th>4</th>\n",
       "      <td>http://dbpedia.org/resource/Calabria</td>\n",
       "      <td>Il Consiglio regionale della Calabria è l'orga...</td>\n",
       "    </tr>\n",
       "    <tr>\n",
       "      <th>5</th>\n",
       "      <td>http://dbpedia.org/resource/Campania</td>\n",
       "      <td>La Campania (AFI: /kamˈpanja/) è una regione i...</td>\n",
       "    </tr>\n",
       "    <tr>\n",
       "      <th>6</th>\n",
       "      <td>http://dbpedia.org/resource/Emilia-Romagna</td>\n",
       "      <td>L'Emilia (Emeja, Emélia, Emégglia o Emilia in ...</td>\n",
       "    </tr>\n",
       "    <tr>\n",
       "      <th>7</th>\n",
       "      <td>http://dbpedia.org/resource/Emilia-Romagna</td>\n",
       "      <td>L'Emilia-Romagna (IPA: /eˈmilja roˈmaɲɲa/; Emi...</td>\n",
       "    </tr>\n",
       "    <tr>\n",
       "      <th>8</th>\n",
       "      <td>http://dbpedia.org/resource/Lazio</td>\n",
       "      <td>Il Latium (Lătĭŭm, in italiano Lazio) fu una r...</td>\n",
       "    </tr>\n",
       "    <tr>\n",
       "      <th>9</th>\n",
       "      <td>http://dbpedia.org/resource/Lazio</td>\n",
       "      <td>Il Lazio è una regione a statuto ordinario del...</td>\n",
       "    </tr>\n",
       "    <tr>\n",
       "      <th>10</th>\n",
       "      <td>http://dbpedia.org/resource/Lombardy</td>\n",
       "      <td>Il Consiglio regionale è l'organo legislativo ...</td>\n",
       "    </tr>\n",
       "    <tr>\n",
       "      <th>11</th>\n",
       "      <td>http://dbpedia.org/resource/Lombardy</td>\n",
       "      <td>La Lombardia (AFI: /lombar'dia/ in italiano; /...</td>\n",
       "    </tr>\n",
       "    <tr>\n",
       "      <th>12</th>\n",
       "      <td>http://dbpedia.org/resource/Marche</td>\n",
       "      <td>Marken (ˈmɑrkə(n); dialetto di Marken: Mereke)...</td>\n",
       "    </tr>\n",
       "    <tr>\n",
       "      <th>13</th>\n",
       "      <td>http://dbpedia.org/resource/Marche</td>\n",
       "      <td>Le Marche sono una regione italiana a statuto ...</td>\n",
       "    </tr>\n",
       "    <tr>\n",
       "      <th>14</th>\n",
       "      <td>http://dbpedia.org/resource/Sardinia</td>\n",
       "      <td>Il Regno di Sardegna fu un'entità statuale del...</td>\n",
       "    </tr>\n",
       "    <tr>\n",
       "      <th>15</th>\n",
       "      <td>http://dbpedia.org/resource/Sardinia</td>\n",
       "      <td>La Sardegna (AFI: /sarˈdeɲɲa/; Sardìgna o Sard...</td>\n",
       "    </tr>\n",
       "    <tr>\n",
       "      <th>16</th>\n",
       "      <td>http://dbpedia.org/resource/Sardinia</td>\n",
       "      <td>La Sardegna è un'isola del mar Mediterraneo oc...</td>\n",
       "    </tr>\n",
       "    <tr>\n",
       "      <th>17</th>\n",
       "      <td>http://dbpedia.org/resource/Tuscany</td>\n",
       "      <td>La Toscana (AFI: /tosˈkana/) è una regione ita...</td>\n",
       "    </tr>\n",
       "    <tr>\n",
       "      <th>18</th>\n",
       "      <td>http://dbpedia.org/resource/Umbria</td>\n",
       "      <td>L'Umbria (AFI: /ˈumbrja/) è una regione dell'I...</td>\n",
       "    </tr>\n",
       "    <tr>\n",
       "      <th>19</th>\n",
       "      <td>http://dbpedia.org/resource/Veneto</td>\n",
       "      <td>Il Veneto (Vèneto in veneto /ˈvɛːneto/, Veneto...</td>\n",
       "    </tr>\n",
       "  </tbody>\n",
       "</table>\n",
       "</div>"
      ],
      "text/plain": [
       "                                        region  \\\n",
       "0          http://dbpedia.org/resource/Abruzzo   \n",
       "1           http://dbpedia.org/resource/Apulia   \n",
       "2       http://dbpedia.org/resource/Basilicata   \n",
       "3         http://dbpedia.org/resource/Calabria   \n",
       "4         http://dbpedia.org/resource/Calabria   \n",
       "5         http://dbpedia.org/resource/Campania   \n",
       "6   http://dbpedia.org/resource/Emilia-Romagna   \n",
       "7   http://dbpedia.org/resource/Emilia-Romagna   \n",
       "8            http://dbpedia.org/resource/Lazio   \n",
       "9            http://dbpedia.org/resource/Lazio   \n",
       "10        http://dbpedia.org/resource/Lombardy   \n",
       "11        http://dbpedia.org/resource/Lombardy   \n",
       "12          http://dbpedia.org/resource/Marche   \n",
       "13          http://dbpedia.org/resource/Marche   \n",
       "14        http://dbpedia.org/resource/Sardinia   \n",
       "15        http://dbpedia.org/resource/Sardinia   \n",
       "16        http://dbpedia.org/resource/Sardinia   \n",
       "17         http://dbpedia.org/resource/Tuscany   \n",
       "18          http://dbpedia.org/resource/Umbria   \n",
       "19          http://dbpedia.org/resource/Veneto   \n",
       "\n",
       "                                             abstract  \n",
       "0   L'Abruzzo (o gli Abruzzi) (AFI: /aˈbruʦʦo/) è ...  \n",
       "1   La Puglia (AFI: /ˈpuʎʎa/; Apulia in latino, Ἰα...  \n",
       "2   La Basilicata (AFI: /baziliˈkata/) è una regio...  \n",
       "3   La Calabria (AFI: /kaˈlabrja/; Calabria in cal...  \n",
       "4   Il Consiglio regionale della Calabria è l'orga...  \n",
       "5   La Campania (AFI: /kamˈpanja/) è una regione i...  \n",
       "6   L'Emilia (Emeja, Emélia, Emégglia o Emilia in ...  \n",
       "7   L'Emilia-Romagna (IPA: /eˈmilja roˈmaɲɲa/; Emi...  \n",
       "8   Il Latium (Lătĭŭm, in italiano Lazio) fu una r...  \n",
       "9   Il Lazio è una regione a statuto ordinario del...  \n",
       "10  Il Consiglio regionale è l'organo legislativo ...  \n",
       "11  La Lombardia (AFI: /lombar'dia/ in italiano; /...  \n",
       "12  Marken (ˈmɑrkə(n); dialetto di Marken: Mereke)...  \n",
       "13  Le Marche sono una regione italiana a statuto ...  \n",
       "14  Il Regno di Sardegna fu un'entità statuale del...  \n",
       "15  La Sardegna (AFI: /sarˈdeɲɲa/; Sardìgna o Sard...  \n",
       "16  La Sardegna è un'isola del mar Mediterraneo oc...  \n",
       "17  La Toscana (AFI: /tosˈkana/) è una regione ita...  \n",
       "18  L'Umbria (AFI: /ˈumbrja/) è una regione dell'I...  \n",
       "19  Il Veneto (Vèneto in veneto /ˈvɛːneto/, Veneto...  "
      ]
     },
     "execution_count": 177,
     "metadata": {},
     "output_type": "execute_result"
    }
   ],
   "source": [
    "region_page_resources_str = get_region_pages()\n",
    "\n",
    "abstract_query = f\"\"\"\n",
    "SELECT ?region ?abstract \n",
    "WHERE {{\n",
    "  VALUES ?region {{\n",
    "    {region_page_resources_str}\n",
    "  }}\n",
    "  ?region dbo:abstract ?abstract .\n",
    "  FILTER (lang(?abstract) = \"it\")\n",
    "}}\n",
    "ORDER BY ?region\n",
    "\"\"\"\n",
    "\n",
    "region_abstracts = run_query(abstract_query)\n",
    "region_abstracts"
   ]
  }
 ],
 "metadata": {
  "kernelspec": {
   "display_name": "Python 3",
   "language": "python",
   "name": "python3"
  },
  "language_info": {
   "codemirror_mode": {
    "name": "ipython",
    "version": 3
   },
   "file_extension": ".py",
   "mimetype": "text/x-python",
   "name": "python",
   "nbconvert_exporter": "python",
   "pygments_lexer": "ipython3",
   "version": "3.11.0"
  }
 },
 "nbformat": 4,
 "nbformat_minor": 5
}
