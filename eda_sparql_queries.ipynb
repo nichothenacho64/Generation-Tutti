{
 "cells": [
  {
   "cell_type": "code",
   "execution_count": null,
   "id": "49feafc4",
   "metadata": {},
   "outputs": [],
   "source": [
    "from pprint import pprint\n",
    "\n",
    "from SPARQLWrapper import SPARQLWrapper, JSON\n",
    "import pandas as pd\n",
    "\n",
    "# Define endpoint\n",
    "endpoint_url = \"https://dbpedia.org/sparql\"\n",
    "\n",
    "# Define a function to query and return a DataFrame\n",
    "def run_query(query, endpoint=endpoint_url):\n",
    "    sparql = SPARQLWrapper(endpoint)\n",
    "    sparql.setQuery(query)\n",
    "    sparql.setReturnFormat(JSON)\n",
    "    results = sparql.query().convert()\n",
    "\n",
    "    cols = results[\"head\"][\"vars\"] # type: ignore\n",
    "    pprint(cols)\n",
    "    data = []\n",
    "    for result in results[\"results\"][\"bindings\"]: # type: ignore\n",
    "        row = [result.get(col, {}).get(\"value\", None) for col in cols] # type: ignore\n",
    "        data.append(row)\n",
    "\n",
    "    return pd.DataFrame(data, columns=cols) # type: ignore\n",
    "\n",
    "\n",
    "# https://dbpedia.org/page/Italy\n"
   ]
  },
  {
   "cell_type": "code",
   "execution_count": 17,
   "id": "7ab16980",
   "metadata": {},
   "outputs": [
    {
     "name": "stdout",
     "output_type": "stream",
     "text": [
      "['tripleCount']\n",
      "Total number of triples:\n"
     ]
    },
    {
     "data": {
      "application/vnd.microsoft.datawrangler.viewer.v0+json": {
       "columns": [
        {
         "name": "index",
         "rawType": "int64",
         "type": "integer"
        },
        {
         "name": "tripleCount",
         "rawType": "object",
         "type": "string"
        }
       ],
       "ref": "d3dff69b-3b92-48ae-b83a-1acfafc5ac41",
       "rows": [
        [
         "0",
         "1153051691"
        ]
       ],
       "shape": {
        "columns": 1,
        "rows": 1
       }
      },
      "text/html": [
       "<div>\n",
       "<style scoped>\n",
       "    .dataframe tbody tr th:only-of-type {\n",
       "        vertical-align: middle;\n",
       "    }\n",
       "\n",
       "    .dataframe tbody tr th {\n",
       "        vertical-align: top;\n",
       "    }\n",
       "\n",
       "    .dataframe thead th {\n",
       "        text-align: right;\n",
       "    }\n",
       "</style>\n",
       "<table border=\"1\" class=\"dataframe\">\n",
       "  <thead>\n",
       "    <tr style=\"text-align: right;\">\n",
       "      <th></th>\n",
       "      <th>tripleCount</th>\n",
       "    </tr>\n",
       "  </thead>\n",
       "  <tbody>\n",
       "    <tr>\n",
       "      <th>0</th>\n",
       "      <td>1153051691</td>\n",
       "    </tr>\n",
       "  </tbody>\n",
       "</table>\n",
       "</div>"
      ],
      "text/plain": [
       "  tripleCount\n",
       "0  1153051691"
      ]
     },
     "execution_count": 17,
     "metadata": {},
     "output_type": "execute_result"
    }
   ],
   "source": [
    "query_triple_count = \"\"\"\n",
    "SELECT (COUNT(*) AS ?tripleCount)\n",
    "WHERE {\n",
    "  ?s ?p ?o .\n",
    "}\n",
    "\"\"\"\n",
    "\n",
    "df = run_query(query_triple_count)\n",
    "print(\"Total number of triples:\")\n",
    "df"
   ]
  },
  {
   "cell_type": "code",
   "execution_count": 58,
   "id": "873f588d",
   "metadata": {},
   "outputs": [
    {
     "name": "stdout",
     "output_type": "stream",
     "text": [
      "['_star_fake']\n",
      "  _star_fake\n",
      "0          1\n"
     ]
    }
   ],
   "source": [
    "query_triple_count = \"\"\"\n",
    "\n",
    "PREFIX schema: <http://schema.org/> \n",
    "\n",
    "PREFIX rdf: <http://www.w3.org/1999/02/22-rdf-syntax-ns#> \n",
    "PREFIX rdfs: <http://www.w3.org/2000/01/rdf-schema#> \n",
    "PREFIX owl: <http://www.w3.org/2002/07/owl#> \n",
    "PREFIX dc: <http://purl.org/dc/elements/1.1/> \n",
    "\n",
    "PREFIX dbo: <http://dbpedia.org/ontology/>\n",
    "PREFIX dbr: <http://dbpedia.org/resource/>\n",
    "\n",
    "SELECT *\n",
    "WHERE {\n",
    "  dbr:Italy rdf:type schema:Country .\n",
    "}\n",
    "\"\"\"\n",
    "\n",
    "df = run_query(query_triple_count)\n",
    "print(df)\n",
    "\n",
    "# https://dbpedia.org/page/Italy"
   ]
  },
  {
   "cell_type": "code",
   "execution_count": 71,
   "id": "466c0f5e",
   "metadata": {},
   "outputs": [
    {
     "name": "stdout",
     "output_type": "stream",
     "text": [
      "['s', 'p', 'o']\n",
      "       s     p                                                  o\n",
      "0   None  None                http://dbpedia.org/resource/Cabiria\n",
      "1   None  None               http://dbpedia.org/resource/Calabria\n",
      "2   None  None      http://dbpedia.org/resource/Calcio_Fiorentino\n",
      "3   None  None  http://dbpedia.org/resource/Camillo_Benso,_Cou...\n",
      "4   None  None          http://dbpedia.org/resource/Camillo_Golgi\n",
      "..   ...   ...                                                ...\n",
      "95  None  None          http://dbpedia.org/resource/Schengen_Area\n",
      "96  None  None      http://dbpedia.org/resource/Scientific_method\n",
      "97  None  None       http://dbpedia.org/resource/Electric_battery\n",
      "98  None  None  http://dbpedia.org/resource/Electricity_sector...\n",
      "99  None  None               http://dbpedia.org/resource/Endemism\n",
      "\n",
      "[100 rows x 3 columns]\n"
     ]
    }
   ],
   "source": [
    "# check available thematic data\n",
    "query_triple_count = \"\"\"\n",
    "PREFIX rdf: <http://www.w3.org/1999/02/22-rdf-syntax-ns#> \n",
    "PREFIX rdfs: <http://www.w3.org/2000/01/rdf-schema#> \n",
    "PREFIX owl: <http://www.w3.org/2002/07/owl#> \n",
    "PREFIX dc: <http://purl.org/dc/elements/1.1/> \n",
    "\n",
    "PREFIX dbo: <http://dbpedia.org/ontology/>\n",
    "PREFIX dbr: <http://dbpedia.org/resource/>\n",
    "\n",
    "\n",
    "\n",
    "SELECT ?s ?p ?o\n",
    "WHERE {\n",
    "    dbr:Italy dbo:wikiPageWikiLink ?o .\n",
    "}\n",
    "LIMIT 100\n",
    "\"\"\"\n",
    "\n",
    "df = run_query(query_triple_count)\n",
    "print(df)"
   ]
  }
 ],
 "metadata": {
  "kernelspec": {
   "display_name": "Python 3",
   "language": "python",
   "name": "python3"
  },
  "language_info": {
   "codemirror_mode": {
    "name": "ipython",
    "version": 3
   },
   "file_extension": ".py",
   "mimetype": "text/x-python",
   "name": "python",
   "nbconvert_exporter": "python",
   "pygments_lexer": "ipython3",
   "version": "3.11.0"
  }
 },
 "nbformat": 4,
 "nbformat_minor": 5
}
