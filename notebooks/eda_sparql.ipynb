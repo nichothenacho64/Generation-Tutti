{
 "cells": [
  {
   "cell_type": "code",
   "execution_count": null,
   "id": "49feafc4",
   "metadata": {},
   "outputs": [],
   "source": [
    "from pprint import pprint\n",
    "\n",
    "from SPARQLWrapper import SPARQLWrapper, JSON\n",
    "import pandas as pd\n",
    "\n",
    "from pathlib import Path\n",
    "\n",
    "METADATA_PATH = Path.cwd().parent / \"kiparla-data\" / \"metadata\" / \"KIPasti_conversations.xlsx\"\n",
    "\n",
    "endpoint_url = \"https://dbpedia.org/sparql\"\n",
    "wikidata_endpoint = \"https://query.wikidata.org/sparql\"\n",
    "\n",
    "prefixes = \"\"\" \n",
    "PREFIX schema: <http://schema.org/> \n",
    "\n",
    "PREFIX rdf: <http://www.w3.org/1999/02/22-rdf-syntax-ns#> \n",
    "PREFIX rdfs: <http://www.w3.org/2000/01/rdf-schema#> \n",
    "PREFIX owl: <http://www.w3.org/2002/07/owl#> \n",
    "PREFIX dc: <http://purl.org/dc/elements/1.1/> \n",
    "\n",
    "PREFIX dbo: <http://dbpedia.org/ontology/>\n",
    "PREFIX dbr: <http://dbpedia.org/resource/>\n",
    "\n",
    "PREFIX dct: <http://purl.org/dc/terms/>\n",
    "PREFIX dbc: <http://dbpedia.org/resource/Category:>\n",
    "\"\"\" # found later in the process\n",
    "\n",
    "\n",
    "# Define a function to query and return a DataFrame\n",
    "def run_query(query, endpoint=endpoint_url):\n",
    "    sparql = SPARQLWrapper(endpoint)\n",
    "    sparql.setQuery(prefixes + query)\n",
    "    sparql.setReturnFormat(JSON)\n",
    "    results = sparql.query().convert()\n",
    "\n",
    "    if \"boolean\" in results:  # type: ignore\n",
    "        return results[\"boolean\"]  # type: ignore\n",
    "\n",
    "    elif \"head\" in results and \"results\" in results:  # type: ignore\n",
    "        cols = results[\"head\"][\"vars\"] # type: ignore\n",
    "        data = []\n",
    "        for result in results[\"results\"][\"bindings\"]: # type: ignore\n",
    "            row = [result.get(col, {}).get(\"value\", None) for col in cols] # type: ignore\n",
    "            data.append(row)\n",
    "\n",
    "        return pd.DataFrame(data, columns=cols) # type: ignore\n",
    "    \n",
    "    else:\n",
    "        raise ValueError(\"Unknown SPARQL response format\")\n",
    "\n",
    "\n",
    "# https://dbpedia.org/page/Italy\n"
   ]
  },
  {
   "cell_type": "code",
   "execution_count": 2,
   "id": "5bf9539e",
   "metadata": {},
   "outputs": [
    {
     "data": {
      "application/vnd.microsoft.datawrangler.viewer.v0+json": {
       "columns": [
        {
         "name": "index",
         "rawType": "int64",
         "type": "integer"
        },
        {
         "name": "p",
         "rawType": "object",
         "type": "string"
        }
       ],
       "ref": "a29e8984-24c2-4450-ab48-8db756edef51",
       "rows": [
        [
         "0",
         "http://www.w3.org/1999/02/22-rdf-syntax-ns#type"
        ],
        [
         "1",
         "http://www.w3.org/2000/01/rdf-schema#label"
        ],
        [
         "2",
         "http://www.w3.org/2000/01/rdf-schema#comment"
        ],
        [
         "3",
         "http://www.w3.org/2000/01/rdf-schema#seeAlso"
        ],
        [
         "4",
         "http://xmlns.com/foaf/0.1/name"
        ],
        [
         "5",
         "http://xmlns.com/foaf/0.1/homepage"
        ],
        [
         "6",
         "http://www.w3.org/2004/02/skos/core#exactMatch"
        ],
        [
         "7",
         "http://www.w3.org/2003/01/geo/wgs84_pos#lat"
        ],
        [
         "8",
         "http://www.w3.org/2003/01/geo/wgs84_pos#long"
        ],
        [
         "9",
         "http://xmlns.com/foaf/0.1/depiction"
        ],
        [
         "10",
         "http://purl.org/dc/terms/subject"
        ],
        [
         "11",
         "http://dbpedia.org/ontology/wikiPageID"
        ],
        [
         "12",
         "http://dbpedia.org/ontology/wikiPageRevisionID"
        ],
        [
         "13",
         "http://dbpedia.org/ontology/wikiPageWikiLink"
        ],
        [
         "14",
         "http://dbpedia.org/ontology/wikiPageExternalLink"
        ],
        [
         "15",
         "http://www.w3.org/2002/07/owl#sameAs"
        ],
        [
         "16",
         "http://dbpedia.org/property/sovereigntyType"
        ],
        [
         "17",
         "http://dbpedia.org/property/symbolType"
        ],
        [
         "18",
         "http://dbpedia.org/property/timeZoneDst"
        ],
        [
         "19",
         "http://dbpedia.org/property/upperHouse"
        ],
        [
         "20",
         "http://dbpedia.org/property/wikiPageUsesTemplate"
        ],
        [
         "21",
         "http://dbpedia.org/ontology/thumbnail"
        ],
        [
         "22",
         "http://dbpedia.org/property/areaRank"
        ],
        [
         "23",
         "http://dbpedia.org/property/commonName"
        ],
        [
         "24",
         "http://dbpedia.org/property/align"
        ],
        [
         "25",
         "http://dbpedia.org/property/alt"
        ],
        [
         "26",
         "http://dbpedia.org/property/caption"
        ],
        [
         "27",
         "http://dbpedia.org/property/captionAlign"
        ],
        [
         "28",
         "http://dbpedia.org/property/d"
        ],
        [
         "29",
         "http://dbpedia.org/property/direction"
        ],
        [
         "30",
         "http://dbpedia.org/property/establishedDate"
        ],
        [
         "31",
         "http://dbpedia.org/property/footer"
        ],
        [
         "32",
         "http://dbpedia.org/property/governmentType"
        ],
        [
         "33",
         "http://dbpedia.org/property/image"
        ],
        [
         "34",
         "http://dbpedia.org/property/imageFlag"
        ],
        [
         "35",
         "http://dbpedia.org/property/languages"
        ],
        [
         "36",
         "http://dbpedia.org/property/leaderName"
        ],
        [
         "37",
         "http://dbpedia.org/property/leaderTitle"
        ],
        [
         "38",
         "http://dbpedia.org/property/legislature"
        ],
        [
         "39",
         "http://dbpedia.org/property/populationDensityKm"
        ],
        [
         "40",
         "http://dbpedia.org/property/title"
        ],
        [
         "41",
         "http://dbpedia.org/property/totalWidth"
        ],
        [
         "42",
         "http://dbpedia.org/property/utcOffset"
        ],
        [
         "43",
         "http://dbpedia.org/property/utcOffsetDst"
        ],
        [
         "44",
         "http://dbpedia.org/property/voy"
        ],
        [
         "45",
         "http://dbpedia.org/property/width"
        ],
        [
         "46",
         "http://www.georss.org/georss/point"
        ],
        [
         "47",
         "http://dbpedia.org/property/currency"
        ],
        [
         "48",
         "http://dbpedia.org/property/timeZone"
        ],
        [
         "49",
         "http://dbpedia.org/ontology/abstract"
        ]
       ],
       "shape": {
        "columns": 1,
        "rows": 125
       }
      },
      "text/html": [
       "<div>\n",
       "<style scoped>\n",
       "    .dataframe tbody tr th:only-of-type {\n",
       "        vertical-align: middle;\n",
       "    }\n",
       "\n",
       "    .dataframe tbody tr th {\n",
       "        vertical-align: top;\n",
       "    }\n",
       "\n",
       "    .dataframe thead th {\n",
       "        text-align: right;\n",
       "    }\n",
       "</style>\n",
       "<table border=\"1\" class=\"dataframe\">\n",
       "  <thead>\n",
       "    <tr style=\"text-align: right;\">\n",
       "      <th></th>\n",
       "      <th>p</th>\n",
       "    </tr>\n",
       "  </thead>\n",
       "  <tbody>\n",
       "    <tr>\n",
       "      <th>0</th>\n",
       "      <td>http://www.w3.org/1999/02/22-rdf-syntax-ns#type</td>\n",
       "    </tr>\n",
       "    <tr>\n",
       "      <th>1</th>\n",
       "      <td>http://www.w3.org/2000/01/rdf-schema#label</td>\n",
       "    </tr>\n",
       "    <tr>\n",
       "      <th>2</th>\n",
       "      <td>http://www.w3.org/2000/01/rdf-schema#comment</td>\n",
       "    </tr>\n",
       "    <tr>\n",
       "      <th>3</th>\n",
       "      <td>http://www.w3.org/2000/01/rdf-schema#seeAlso</td>\n",
       "    </tr>\n",
       "    <tr>\n",
       "      <th>4</th>\n",
       "      <td>http://xmlns.com/foaf/0.1/name</td>\n",
       "    </tr>\n",
       "    <tr>\n",
       "      <th>...</th>\n",
       "      <td>...</td>\n",
       "    </tr>\n",
       "    <tr>\n",
       "      <th>120</th>\n",
       "      <td>http://dbpedia.org/ontology/governmentType</td>\n",
       "    </tr>\n",
       "    <tr>\n",
       "      <th>121</th>\n",
       "      <td>http://dbpedia.org/ontology/language</td>\n",
       "    </tr>\n",
       "    <tr>\n",
       "      <th>122</th>\n",
       "      <td>http://dbpedia.org/ontology/timeZone</td>\n",
       "    </tr>\n",
       "    <tr>\n",
       "      <th>123</th>\n",
       "      <td>http://xmlns.com/foaf/0.1/isPrimaryTopicOf</td>\n",
       "    </tr>\n",
       "    <tr>\n",
       "      <th>124</th>\n",
       "      <td>http://www.w3.org/2003/01/geo/wgs84_pos#geometry</td>\n",
       "    </tr>\n",
       "  </tbody>\n",
       "</table>\n",
       "<p>125 rows × 1 columns</p>\n",
       "</div>"
      ],
      "text/plain": [
       "                                                    p\n",
       "0     http://www.w3.org/1999/02/22-rdf-syntax-ns#type\n",
       "1          http://www.w3.org/2000/01/rdf-schema#label\n",
       "2        http://www.w3.org/2000/01/rdf-schema#comment\n",
       "3        http://www.w3.org/2000/01/rdf-schema#seeAlso\n",
       "4                      http://xmlns.com/foaf/0.1/name\n",
       "..                                                ...\n",
       "120        http://dbpedia.org/ontology/governmentType\n",
       "121              http://dbpedia.org/ontology/language\n",
       "122              http://dbpedia.org/ontology/timeZone\n",
       "123        http://xmlns.com/foaf/0.1/isPrimaryTopicOf\n",
       "124  http://www.w3.org/2003/01/geo/wgs84_pos#geometry\n",
       "\n",
       "[125 rows x 1 columns]"
      ]
     },
     "execution_count": 2,
     "metadata": {},
     "output_type": "execute_result"
    }
   ],
   "source": [
    "# 1.\n",
    "# ?? finding out the predicates on the Italy page\n",
    "# \n",
    "all_query_predicates = \"\"\"\n",
    "SELECT DISTINCT ?p\n",
    "WHERE { \n",
    "    dbr:Italy ?p ?o .\n",
    "}\n",
    "\"\"\"\n",
    "\n",
    "predicates_df = run_query(all_query_predicates)\n",
    "predicates_df"
   ]
  },
  {
   "cell_type": "code",
   "execution_count": 3,
   "id": "b9204bb7",
   "metadata": {},
   "outputs": [
    {
     "data": {
      "application/vnd.microsoft.datawrangler.viewer.v0+json": {
       "columns": [
        {
         "name": "index",
         "rawType": "int64",
         "type": "integer"
        },
        {
         "name": "p",
         "rawType": "object",
         "type": "string"
        }
       ],
       "ref": "7a916d41-75e1-4e38-b55c-857e33b0bdfc",
       "rows": [
        [
         "0",
         "http://www.w3.org/1999/02/22-rdf-syntax-ns#type"
        ],
        [
         "1",
         "http://www.w3.org/2000/01/rdf-schema#label"
        ]
       ],
       "shape": {
        "columns": 1,
        "rows": 2
       }
      },
      "text/html": [
       "<div>\n",
       "<style scoped>\n",
       "    .dataframe tbody tr th:only-of-type {\n",
       "        vertical-align: middle;\n",
       "    }\n",
       "\n",
       "    .dataframe tbody tr th {\n",
       "        vertical-align: top;\n",
       "    }\n",
       "\n",
       "    .dataframe thead th {\n",
       "        text-align: right;\n",
       "    }\n",
       "</style>\n",
       "<table border=\"1\" class=\"dataframe\">\n",
       "  <thead>\n",
       "    <tr style=\"text-align: right;\">\n",
       "      <th></th>\n",
       "      <th>p</th>\n",
       "    </tr>\n",
       "  </thead>\n",
       "  <tbody>\n",
       "    <tr>\n",
       "      <th>0</th>\n",
       "      <td>http://www.w3.org/1999/02/22-rdf-syntax-ns#type</td>\n",
       "    </tr>\n",
       "    <tr>\n",
       "      <th>1</th>\n",
       "      <td>http://www.w3.org/2000/01/rdf-schema#label</td>\n",
       "    </tr>\n",
       "  </tbody>\n",
       "</table>\n",
       "</div>"
      ],
      "text/plain": [
       "                                                 p\n",
       "0  http://www.w3.org/1999/02/22-rdf-syntax-ns#type\n",
       "1       http://www.w3.org/2000/01/rdf-schema#label"
      ]
     },
     "execution_count": 3,
     "metadata": {},
     "output_type": "execute_result"
    }
   ],
   "source": [
    "# 2.\n",
    "# ?? checking for the existence of specific predicates\n",
    "# \n",
    "query_predicates = \"\"\"\n",
    "SELECT DISTINCT ?p\n",
    "WHERE {\n",
    "  dbr:Italy ?p ?o .\n",
    "  VALUES ?p {\n",
    "    <http://www.w3.org/1999/02/22-rdf-syntax-ns#type> \n",
    "    <http://www.w3.org/2000/01/rdf-schema#label> \n",
    "  }\n",
    "}\n",
    "\"\"\"\n",
    "\n",
    "predicates_df = run_query(query_predicates)\n",
    "predicates_df"
   ]
  },
  {
   "cell_type": "code",
   "execution_count": 4,
   "id": "cabb4c33",
   "metadata": {},
   "outputs": [
    {
     "data": {
      "application/vnd.microsoft.datawrangler.viewer.v0+json": {
       "columns": [
        {
         "name": "index",
         "rawType": "int64",
         "type": "integer"
        },
        {
         "name": "p",
         "rawType": "object",
         "type": "string"
        }
       ],
       "ref": "6f484934-9b87-427d-992e-30f1c0f7be05",
       "rows": [
        [
         "0",
         "http://dbpedia.org/ontology/wikiPageID"
        ],
        [
         "1",
         "http://dbpedia.org/ontology/wikiPageRevisionID"
        ],
        [
         "2",
         "http://dbpedia.org/ontology/wikiPageWikiLink"
        ],
        [
         "3",
         "http://dbpedia.org/ontology/wikiPageExternalLink"
        ],
        [
         "4",
         "http://www.w3.org/2002/07/owl#sameAs"
        ],
        [
         "5",
         "http://dbpedia.org/ontology/thumbnail"
        ],
        [
         "6",
         "http://dbpedia.org/ontology/abstract"
        ],
        [
         "7",
         "http://dbpedia.org/ontology/anthem"
        ],
        [
         "8",
         "http://dbpedia.org/ontology/currency"
        ],
        [
         "9",
         "http://dbpedia.org/ontology/topLevelDomain"
        ],
        [
         "10",
         "http://dbpedia.org/ontology/countryCode"
        ],
        [
         "11",
         "http://dbpedia.org/ontology/currencyCode"
        ],
        [
         "12",
         "http://dbpedia.org/ontology/percentageOfAreaWater"
        ],
        [
         "13",
         "http://dbpedia.org/ontology/legislature"
        ],
        [
         "14",
         "http://dbpedia.org/ontology/PopulatedPlace/area"
        ],
        [
         "15",
         "http://dbpedia.org/ontology/PopulatedPlace/populationDensity"
        ],
        [
         "16",
         "http://dbpedia.org/ontology/wikiPageLength"
        ],
        [
         "17",
         "http://dbpedia.org/ontology/officialLanguage"
        ],
        [
         "18",
         "http://dbpedia.org/ontology/area"
        ],
        [
         "19",
         "http://dbpedia.org/ontology/demonym"
        ],
        [
         "20",
         "http://dbpedia.org/ontology/populationDensity"
        ],
        [
         "21",
         "http://dbpedia.org/ontology/populationTotal"
        ],
        [
         "22",
         "http://dbpedia.org/ontology/populationTotalRanking"
        ],
        [
         "23",
         "http://dbpedia.org/ontology/utcOffset"
        ],
        [
         "24",
         "http://dbpedia.org/ontology/humanDevelopmentIndex"
        ],
        [
         "25",
         "http://dbpedia.org/ontology/giniCoefficient"
        ],
        [
         "26",
         "http://dbpedia.org/ontology/capital"
        ],
        [
         "27",
         "http://dbpedia.org/ontology/event"
        ],
        [
         "28",
         "http://dbpedia.org/ontology/governmentType"
        ],
        [
         "29",
         "http://dbpedia.org/ontology/language"
        ],
        [
         "30",
         "http://dbpedia.org/ontology/timeZone"
        ]
       ],
       "shape": {
        "columns": 1,
        "rows": 31
       }
      },
      "text/html": [
       "<div>\n",
       "<style scoped>\n",
       "    .dataframe tbody tr th:only-of-type {\n",
       "        vertical-align: middle;\n",
       "    }\n",
       "\n",
       "    .dataframe tbody tr th {\n",
       "        vertical-align: top;\n",
       "    }\n",
       "\n",
       "    .dataframe thead th {\n",
       "        text-align: right;\n",
       "    }\n",
       "</style>\n",
       "<table border=\"1\" class=\"dataframe\">\n",
       "  <thead>\n",
       "    <tr style=\"text-align: right;\">\n",
       "      <th></th>\n",
       "      <th>p</th>\n",
       "    </tr>\n",
       "  </thead>\n",
       "  <tbody>\n",
       "    <tr>\n",
       "      <th>0</th>\n",
       "      <td>http://dbpedia.org/ontology/wikiPageID</td>\n",
       "    </tr>\n",
       "    <tr>\n",
       "      <th>1</th>\n",
       "      <td>http://dbpedia.org/ontology/wikiPageRevisionID</td>\n",
       "    </tr>\n",
       "    <tr>\n",
       "      <th>2</th>\n",
       "      <td>http://dbpedia.org/ontology/wikiPageWikiLink</td>\n",
       "    </tr>\n",
       "    <tr>\n",
       "      <th>3</th>\n",
       "      <td>http://dbpedia.org/ontology/wikiPageExternalLink</td>\n",
       "    </tr>\n",
       "    <tr>\n",
       "      <th>4</th>\n",
       "      <td>http://www.w3.org/2002/07/owl#sameAs</td>\n",
       "    </tr>\n",
       "    <tr>\n",
       "      <th>5</th>\n",
       "      <td>http://dbpedia.org/ontology/thumbnail</td>\n",
       "    </tr>\n",
       "    <tr>\n",
       "      <th>6</th>\n",
       "      <td>http://dbpedia.org/ontology/abstract</td>\n",
       "    </tr>\n",
       "    <tr>\n",
       "      <th>7</th>\n",
       "      <td>http://dbpedia.org/ontology/anthem</td>\n",
       "    </tr>\n",
       "    <tr>\n",
       "      <th>8</th>\n",
       "      <td>http://dbpedia.org/ontology/currency</td>\n",
       "    </tr>\n",
       "    <tr>\n",
       "      <th>9</th>\n",
       "      <td>http://dbpedia.org/ontology/topLevelDomain</td>\n",
       "    </tr>\n",
       "    <tr>\n",
       "      <th>10</th>\n",
       "      <td>http://dbpedia.org/ontology/countryCode</td>\n",
       "    </tr>\n",
       "    <tr>\n",
       "      <th>11</th>\n",
       "      <td>http://dbpedia.org/ontology/currencyCode</td>\n",
       "    </tr>\n",
       "    <tr>\n",
       "      <th>12</th>\n",
       "      <td>http://dbpedia.org/ontology/percentageOfAreaWater</td>\n",
       "    </tr>\n",
       "    <tr>\n",
       "      <th>13</th>\n",
       "      <td>http://dbpedia.org/ontology/legislature</td>\n",
       "    </tr>\n",
       "    <tr>\n",
       "      <th>14</th>\n",
       "      <td>http://dbpedia.org/ontology/PopulatedPlace/area</td>\n",
       "    </tr>\n",
       "    <tr>\n",
       "      <th>15</th>\n",
       "      <td>http://dbpedia.org/ontology/PopulatedPlace/pop...</td>\n",
       "    </tr>\n",
       "    <tr>\n",
       "      <th>16</th>\n",
       "      <td>http://dbpedia.org/ontology/wikiPageLength</td>\n",
       "    </tr>\n",
       "    <tr>\n",
       "      <th>17</th>\n",
       "      <td>http://dbpedia.org/ontology/officialLanguage</td>\n",
       "    </tr>\n",
       "    <tr>\n",
       "      <th>18</th>\n",
       "      <td>http://dbpedia.org/ontology/area</td>\n",
       "    </tr>\n",
       "    <tr>\n",
       "      <th>19</th>\n",
       "      <td>http://dbpedia.org/ontology/demonym</td>\n",
       "    </tr>\n",
       "    <tr>\n",
       "      <th>20</th>\n",
       "      <td>http://dbpedia.org/ontology/populationDensity</td>\n",
       "    </tr>\n",
       "    <tr>\n",
       "      <th>21</th>\n",
       "      <td>http://dbpedia.org/ontology/populationTotal</td>\n",
       "    </tr>\n",
       "    <tr>\n",
       "      <th>22</th>\n",
       "      <td>http://dbpedia.org/ontology/populationTotalRan...</td>\n",
       "    </tr>\n",
       "    <tr>\n",
       "      <th>23</th>\n",
       "      <td>http://dbpedia.org/ontology/utcOffset</td>\n",
       "    </tr>\n",
       "    <tr>\n",
       "      <th>24</th>\n",
       "      <td>http://dbpedia.org/ontology/humanDevelopmentIndex</td>\n",
       "    </tr>\n",
       "    <tr>\n",
       "      <th>25</th>\n",
       "      <td>http://dbpedia.org/ontology/giniCoefficient</td>\n",
       "    </tr>\n",
       "    <tr>\n",
       "      <th>26</th>\n",
       "      <td>http://dbpedia.org/ontology/capital</td>\n",
       "    </tr>\n",
       "    <tr>\n",
       "      <th>27</th>\n",
       "      <td>http://dbpedia.org/ontology/event</td>\n",
       "    </tr>\n",
       "    <tr>\n",
       "      <th>28</th>\n",
       "      <td>http://dbpedia.org/ontology/governmentType</td>\n",
       "    </tr>\n",
       "    <tr>\n",
       "      <th>29</th>\n",
       "      <td>http://dbpedia.org/ontology/language</td>\n",
       "    </tr>\n",
       "    <tr>\n",
       "      <th>30</th>\n",
       "      <td>http://dbpedia.org/ontology/timeZone</td>\n",
       "    </tr>\n",
       "  </tbody>\n",
       "</table>\n",
       "</div>"
      ],
      "text/plain": [
       "                                                    p\n",
       "0              http://dbpedia.org/ontology/wikiPageID\n",
       "1      http://dbpedia.org/ontology/wikiPageRevisionID\n",
       "2        http://dbpedia.org/ontology/wikiPageWikiLink\n",
       "3    http://dbpedia.org/ontology/wikiPageExternalLink\n",
       "4                http://www.w3.org/2002/07/owl#sameAs\n",
       "5               http://dbpedia.org/ontology/thumbnail\n",
       "6                http://dbpedia.org/ontology/abstract\n",
       "7                  http://dbpedia.org/ontology/anthem\n",
       "8                http://dbpedia.org/ontology/currency\n",
       "9          http://dbpedia.org/ontology/topLevelDomain\n",
       "10            http://dbpedia.org/ontology/countryCode\n",
       "11           http://dbpedia.org/ontology/currencyCode\n",
       "12  http://dbpedia.org/ontology/percentageOfAreaWater\n",
       "13            http://dbpedia.org/ontology/legislature\n",
       "14    http://dbpedia.org/ontology/PopulatedPlace/area\n",
       "15  http://dbpedia.org/ontology/PopulatedPlace/pop...\n",
       "16         http://dbpedia.org/ontology/wikiPageLength\n",
       "17       http://dbpedia.org/ontology/officialLanguage\n",
       "18                   http://dbpedia.org/ontology/area\n",
       "19                http://dbpedia.org/ontology/demonym\n",
       "20      http://dbpedia.org/ontology/populationDensity\n",
       "21        http://dbpedia.org/ontology/populationTotal\n",
       "22  http://dbpedia.org/ontology/populationTotalRan...\n",
       "23              http://dbpedia.org/ontology/utcOffset\n",
       "24  http://dbpedia.org/ontology/humanDevelopmentIndex\n",
       "25        http://dbpedia.org/ontology/giniCoefficient\n",
       "26                http://dbpedia.org/ontology/capital\n",
       "27                  http://dbpedia.org/ontology/event\n",
       "28         http://dbpedia.org/ontology/governmentType\n",
       "29               http://dbpedia.org/ontology/language\n",
       "30               http://dbpedia.org/ontology/timeZone"
      ]
     },
     "execution_count": 4,
     "metadata": {},
     "output_type": "execute_result"
    }
   ],
   "source": [
    "# 3.\n",
    "# ?? checking for the existence of important predicates\n",
    "# \n",
    "query_predicates = \"\"\"\n",
    "SELECT DISTINCT ?p\n",
    "WHERE {\n",
    "  dbr:Italy ?p ?o .\n",
    "  FILTER (\n",
    "    STRSTARTS(STR(?p), \"http://www.w3.org/2002/07/owl#\") ||\n",
    "    STRSTARTS(STR(?p), \"http://purl.org/dc/elements/1.1/\") ||\n",
    "    STRSTARTS(STR(?p), \"http://dbpedia.org/ontology/\") ||\n",
    "    STRSTARTS(STR(?p), \"http://dbpedia.org/resource/\")\n",
    "  )\n",
    "}\n",
    "\"\"\"\n",
    "\n",
    "predicates_df = run_query(query_predicates)\n",
    "predicates_df"
   ]
  },
  {
   "cell_type": "code",
   "execution_count": 5,
   "id": "c3bda278",
   "metadata": {},
   "outputs": [
    {
     "data": {
      "application/vnd.microsoft.datawrangler.viewer.v0+json": {
       "columns": [
        {
         "name": "index",
         "rawType": "int64",
         "type": "integer"
        },
        {
         "name": "region",
         "rawType": "object",
         "type": "string"
        },
        {
         "name": "name",
         "rawType": "object",
         "type": "string"
        }
       ],
       "ref": "b03db9c6-dea0-44e6-bb29-7dff493518b5",
       "rows": [
        [
         "0",
         "http://dbpedia.org/resource/Friuli_Venezia_Giulia",
         "Aeroporto di Trieste-Ronchi dei Legionari"
        ],
        [
         "1",
         "http://dbpedia.org/resource/Aosta_Valley",
         "Aosta"
        ],
        [
         "2",
         "http://dbpedia.org/resource/Basilicata",
         "Basilicata"
        ],
        [
         "3",
         "http://dbpedia.org/resource/Calabria",
         "Calabria"
        ],
        [
         "4",
         "http://dbpedia.org/resource/Campania",
         "Campania"
        ],
        [
         "5",
         "http://dbpedia.org/resource/Calabria",
         "Consiglio regionale della Calabria"
        ],
        [
         "6",
         "http://dbpedia.org/resource/Friuli_Venezia_Giulia",
         "Consiglio regionale del Friuli-Venezia Giulia"
        ],
        [
         "7",
         "http://dbpedia.org/resource/Emilia-Romagna",
         "Emilia"
        ],
        [
         "8",
         "http://dbpedia.org/resource/Emilia-Romagna",
         "Emilia-Romagna"
        ],
        [
         "9",
         "http://dbpedia.org/resource/Friuli_Venezia_Giulia",
         "Friuli"
        ],
        [
         "10",
         "http://dbpedia.org/resource/Friuli_Venezia_Giulia",
         "Friuli-Venezia Giulia"
        ],
        [
         "11",
         "http://dbpedia.org/resource/Sicily",
         "Isola di Sicilia"
        ],
        [
         "12",
         "http://dbpedia.org/resource/Lazio",
         "Latium"
        ],
        [
         "13",
         "http://dbpedia.org/resource/Lazio",
         "Lazio"
        ],
        [
         "14",
         "http://dbpedia.org/resource/Liguria",
         "Liguri"
        ],
        [
         "15",
         "http://dbpedia.org/resource/Liguria",
         "Liguria"
        ],
        [
         "16",
         "http://dbpedia.org/resource/Marche",
         "Marche"
        ],
        [
         "17",
         "http://dbpedia.org/resource/Marche",
         "Marken"
        ],
        [
         "18",
         "http://dbpedia.org/resource/Molise",
         "Molise"
        ],
        [
         "19",
         "http://dbpedia.org/resource/Friuli_Venezia_Giulia",
         "Provincia di Udine"
        ],
        [
         "20",
         "http://dbpedia.org/resource/Apulia",
         "Puglia"
        ],
        [
         "21",
         "http://dbpedia.org/resource/Sicily",
         "Sicilia"
        ],
        [
         "22",
         "http://dbpedia.org/resource/Sicily",
         "Sicilia (provincia romana)"
        ],
        [
         "23",
         "http://dbpedia.org/resource/Tuscany",
         "Toscana"
        ],
        [
         "24",
         "http://dbpedia.org/resource/Umbria",
         "Umbria"
        ],
        [
         "25",
         "http://dbpedia.org/resource/Aosta_Valley",
         "Valle d'Aosta"
        ],
        [
         "26",
         "http://dbpedia.org/resource/Veneto",
         "Veneto"
        ]
       ],
       "shape": {
        "columns": 2,
        "rows": 27
       }
      },
      "text/html": [
       "<div>\n",
       "<style scoped>\n",
       "    .dataframe tbody tr th:only-of-type {\n",
       "        vertical-align: middle;\n",
       "    }\n",
       "\n",
       "    .dataframe tbody tr th {\n",
       "        vertical-align: top;\n",
       "    }\n",
       "\n",
       "    .dataframe thead th {\n",
       "        text-align: right;\n",
       "    }\n",
       "</style>\n",
       "<table border=\"1\" class=\"dataframe\">\n",
       "  <thead>\n",
       "    <tr style=\"text-align: right;\">\n",
       "      <th></th>\n",
       "      <th>region</th>\n",
       "      <th>name</th>\n",
       "    </tr>\n",
       "  </thead>\n",
       "  <tbody>\n",
       "    <tr>\n",
       "      <th>0</th>\n",
       "      <td>http://dbpedia.org/resource/Friuli_Venezia_Giulia</td>\n",
       "      <td>Aeroporto di Trieste-Ronchi dei Legionari</td>\n",
       "    </tr>\n",
       "    <tr>\n",
       "      <th>1</th>\n",
       "      <td>http://dbpedia.org/resource/Aosta_Valley</td>\n",
       "      <td>Aosta</td>\n",
       "    </tr>\n",
       "    <tr>\n",
       "      <th>2</th>\n",
       "      <td>http://dbpedia.org/resource/Basilicata</td>\n",
       "      <td>Basilicata</td>\n",
       "    </tr>\n",
       "    <tr>\n",
       "      <th>3</th>\n",
       "      <td>http://dbpedia.org/resource/Calabria</td>\n",
       "      <td>Calabria</td>\n",
       "    </tr>\n",
       "    <tr>\n",
       "      <th>4</th>\n",
       "      <td>http://dbpedia.org/resource/Campania</td>\n",
       "      <td>Campania</td>\n",
       "    </tr>\n",
       "    <tr>\n",
       "      <th>5</th>\n",
       "      <td>http://dbpedia.org/resource/Calabria</td>\n",
       "      <td>Consiglio regionale della Calabria</td>\n",
       "    </tr>\n",
       "    <tr>\n",
       "      <th>6</th>\n",
       "      <td>http://dbpedia.org/resource/Friuli_Venezia_Giulia</td>\n",
       "      <td>Consiglio regionale del Friuli-Venezia Giulia</td>\n",
       "    </tr>\n",
       "    <tr>\n",
       "      <th>7</th>\n",
       "      <td>http://dbpedia.org/resource/Emilia-Romagna</td>\n",
       "      <td>Emilia</td>\n",
       "    </tr>\n",
       "    <tr>\n",
       "      <th>8</th>\n",
       "      <td>http://dbpedia.org/resource/Emilia-Romagna</td>\n",
       "      <td>Emilia-Romagna</td>\n",
       "    </tr>\n",
       "    <tr>\n",
       "      <th>9</th>\n",
       "      <td>http://dbpedia.org/resource/Friuli_Venezia_Giulia</td>\n",
       "      <td>Friuli</td>\n",
       "    </tr>\n",
       "    <tr>\n",
       "      <th>10</th>\n",
       "      <td>http://dbpedia.org/resource/Friuli_Venezia_Giulia</td>\n",
       "      <td>Friuli-Venezia Giulia</td>\n",
       "    </tr>\n",
       "    <tr>\n",
       "      <th>11</th>\n",
       "      <td>http://dbpedia.org/resource/Sicily</td>\n",
       "      <td>Isola di Sicilia</td>\n",
       "    </tr>\n",
       "    <tr>\n",
       "      <th>12</th>\n",
       "      <td>http://dbpedia.org/resource/Lazio</td>\n",
       "      <td>Latium</td>\n",
       "    </tr>\n",
       "    <tr>\n",
       "      <th>13</th>\n",
       "      <td>http://dbpedia.org/resource/Lazio</td>\n",
       "      <td>Lazio</td>\n",
       "    </tr>\n",
       "    <tr>\n",
       "      <th>14</th>\n",
       "      <td>http://dbpedia.org/resource/Liguria</td>\n",
       "      <td>Liguri</td>\n",
       "    </tr>\n",
       "    <tr>\n",
       "      <th>15</th>\n",
       "      <td>http://dbpedia.org/resource/Liguria</td>\n",
       "      <td>Liguria</td>\n",
       "    </tr>\n",
       "    <tr>\n",
       "      <th>16</th>\n",
       "      <td>http://dbpedia.org/resource/Marche</td>\n",
       "      <td>Marche</td>\n",
       "    </tr>\n",
       "    <tr>\n",
       "      <th>17</th>\n",
       "      <td>http://dbpedia.org/resource/Marche</td>\n",
       "      <td>Marken</td>\n",
       "    </tr>\n",
       "    <tr>\n",
       "      <th>18</th>\n",
       "      <td>http://dbpedia.org/resource/Molise</td>\n",
       "      <td>Molise</td>\n",
       "    </tr>\n",
       "    <tr>\n",
       "      <th>19</th>\n",
       "      <td>http://dbpedia.org/resource/Friuli_Venezia_Giulia</td>\n",
       "      <td>Provincia di Udine</td>\n",
       "    </tr>\n",
       "    <tr>\n",
       "      <th>20</th>\n",
       "      <td>http://dbpedia.org/resource/Apulia</td>\n",
       "      <td>Puglia</td>\n",
       "    </tr>\n",
       "    <tr>\n",
       "      <th>21</th>\n",
       "      <td>http://dbpedia.org/resource/Sicily</td>\n",
       "      <td>Sicilia</td>\n",
       "    </tr>\n",
       "    <tr>\n",
       "      <th>22</th>\n",
       "      <td>http://dbpedia.org/resource/Sicily</td>\n",
       "      <td>Sicilia (provincia romana)</td>\n",
       "    </tr>\n",
       "    <tr>\n",
       "      <th>23</th>\n",
       "      <td>http://dbpedia.org/resource/Tuscany</td>\n",
       "      <td>Toscana</td>\n",
       "    </tr>\n",
       "    <tr>\n",
       "      <th>24</th>\n",
       "      <td>http://dbpedia.org/resource/Umbria</td>\n",
       "      <td>Umbria</td>\n",
       "    </tr>\n",
       "    <tr>\n",
       "      <th>25</th>\n",
       "      <td>http://dbpedia.org/resource/Aosta_Valley</td>\n",
       "      <td>Valle d'Aosta</td>\n",
       "    </tr>\n",
       "    <tr>\n",
       "      <th>26</th>\n",
       "      <td>http://dbpedia.org/resource/Veneto</td>\n",
       "      <td>Veneto</td>\n",
       "    </tr>\n",
       "  </tbody>\n",
       "</table>\n",
       "</div>"
      ],
      "text/plain": [
       "                                               region  \\\n",
       "0   http://dbpedia.org/resource/Friuli_Venezia_Giulia   \n",
       "1            http://dbpedia.org/resource/Aosta_Valley   \n",
       "2              http://dbpedia.org/resource/Basilicata   \n",
       "3                http://dbpedia.org/resource/Calabria   \n",
       "4                http://dbpedia.org/resource/Campania   \n",
       "5                http://dbpedia.org/resource/Calabria   \n",
       "6   http://dbpedia.org/resource/Friuli_Venezia_Giulia   \n",
       "7          http://dbpedia.org/resource/Emilia-Romagna   \n",
       "8          http://dbpedia.org/resource/Emilia-Romagna   \n",
       "9   http://dbpedia.org/resource/Friuli_Venezia_Giulia   \n",
       "10  http://dbpedia.org/resource/Friuli_Venezia_Giulia   \n",
       "11                 http://dbpedia.org/resource/Sicily   \n",
       "12                  http://dbpedia.org/resource/Lazio   \n",
       "13                  http://dbpedia.org/resource/Lazio   \n",
       "14                http://dbpedia.org/resource/Liguria   \n",
       "15                http://dbpedia.org/resource/Liguria   \n",
       "16                 http://dbpedia.org/resource/Marche   \n",
       "17                 http://dbpedia.org/resource/Marche   \n",
       "18                 http://dbpedia.org/resource/Molise   \n",
       "19  http://dbpedia.org/resource/Friuli_Venezia_Giulia   \n",
       "20                 http://dbpedia.org/resource/Apulia   \n",
       "21                 http://dbpedia.org/resource/Sicily   \n",
       "22                 http://dbpedia.org/resource/Sicily   \n",
       "23                http://dbpedia.org/resource/Tuscany   \n",
       "24                 http://dbpedia.org/resource/Umbria   \n",
       "25           http://dbpedia.org/resource/Aosta_Valley   \n",
       "26                 http://dbpedia.org/resource/Veneto   \n",
       "\n",
       "                                             name  \n",
       "0       Aeroporto di Trieste-Ronchi dei Legionari  \n",
       "1                                           Aosta  \n",
       "2                                      Basilicata  \n",
       "3                                        Calabria  \n",
       "4                                        Campania  \n",
       "5              Consiglio regionale della Calabria  \n",
       "6   Consiglio regionale del Friuli-Venezia Giulia  \n",
       "7                                          Emilia  \n",
       "8                                  Emilia-Romagna  \n",
       "9                                          Friuli  \n",
       "10                          Friuli-Venezia Giulia  \n",
       "11                               Isola di Sicilia  \n",
       "12                                         Latium  \n",
       "13                                          Lazio  \n",
       "14                                         Liguri  \n",
       "15                                        Liguria  \n",
       "16                                         Marche  \n",
       "17                                         Marken  \n",
       "18                                         Molise  \n",
       "19                             Provincia di Udine  \n",
       "20                                         Puglia  \n",
       "21                                        Sicilia  \n",
       "22                     Sicilia (provincia romana)  \n",
       "23                                        Toscana  \n",
       "24                                         Umbria  \n",
       "25                                  Valle d'Aosta  \n",
       "26                                         Veneto  "
      ]
     },
     "execution_count": 5,
     "metadata": {},
     "output_type": "execute_result"
    }
   ],
   "source": [
    "# 4.\n",
    "# ?? exploring the current regional data –> stuff is missing, Wikidata needs to be used to reconcile this\n",
    "# \n",
    "\n",
    "regions_of_italy_query = \"\"\"\n",
    "SELECT DISTINCT ?region ?name WHERE {\n",
    "  ?region dct:subject dbc:Regions_of_Italy .\n",
    "  ?region rdf:type dbo:Region .\n",
    "  ?region dbo:country dbr:Italy .\n",
    "  ?region rdfs:label ?name .\n",
    "  FILTER (lang(?name) = \"it\")\n",
    "}\n",
    "ORDER BY ?name\n",
    "\"\"\"\n",
    "\n",
    "\n",
    "regions_of_italy = run_query(regions_of_italy_query)\n",
    "regions_of_italy"
   ]
  },
  {
   "cell_type": "code",
   "execution_count": 6,
   "id": "524f92a1",
   "metadata": {},
   "outputs": [],
   "source": [
    "# 5.\n",
    "# ?? the labels in the dataset require conversion from Italian to English\n",
    "# \n",
    "\n",
    "def convert_italian_to_english_label(italian_region_name) -> str:\n",
    "  basic_query = \"\"\"\n",
    "  SELECT ?region ?english_region_name ?italian_region_name \n",
    "  WHERE {\n",
    "    ?region wdt:P31 ?region_type.\n",
    "    VALUES ?region_type { wd:Q16110 wd:Q1710033 }       \n",
    "\n",
    "    SERVICE wikibase:label {\n",
    "      bd:serviceParam wikibase:language \"en\" .\n",
    "      ?region rdfs:label ?english_region_name .\n",
    "    }\n",
    "    SERVICE wikibase:label {\n",
    "      bd:serviceParam wikibase:language \"it\" .\n",
    "      ?region rdfs:label ?italian_region_name .\n",
    "    }\n",
    "  }\n",
    "  ORDER BY ?english_region_name\n",
    "  \"\"\"\n",
    "\n",
    "\n",
    "  italian_regions = run_query(basic_query, endpoint=wikidata_endpoint)\n",
    "  match = italian_regions[italian_regions[\"italian_region_name\"] == italian_region_name] # type: ignore\n",
    "  if not match.empty: # type: ignore\n",
    "      return match.iloc[0][\"english_region_name\"] # type: ignore\n",
    "  else:\n",
    "      return f\"Region '{italian_region_name}' not found\" # type: ignore"
   ]
  },
  {
   "cell_type": "code",
   "execution_count": 7,
   "id": "e6133bb4",
   "metadata": {},
   "outputs": [],
   "source": [
    "# 6.\n",
    "# ?? exploring the current regional data –> stuff is missing, Wikidata needs to be used to reconcile this\n",
    "# \n",
    "\n",
    "from urllib.parse import quote\n",
    "\n",
    "def get_regions(convert_to_english=True):\n",
    "    metadata_df = pd.read_excel(METADATA_PATH, keep_default_na=False)\n",
    "    # dbpedia_base_url = \"https://dbpedia.org/page/\"\n",
    "\n",
    "    regions = set()\n",
    "    # region_links = \n",
    "\n",
    "    for italian_region_name in metadata_df[\"region\"]:\n",
    "        italian_region_name = italian_region_name.strip().capitalize()\n",
    "        if \"-\" in italian_region_name:\n",
    "            italian_region_name = \"-\".join(region_name_part.capitalize() for region_name_part in italian_region_name.split(\"-\"))\n",
    "        regions.add(italian_region_name)\n",
    "\n",
    "    regions = sorted(regions)\n",
    "    if convert_to_english:\n",
    "        regions = [convert_italian_to_english_label(region) for region in regions]\n",
    "    return regions    \n",
    "\n",
    "def get_region_pages():\n",
    "    regions = get_regions()\n",
    "    region_page_resources = [\"dbr:\" + region_name for region_name in regions]\n",
    "    region_page_resources_str = \" \".join(region_page_resources)\n",
    "    \n",
    "    return region_page_resources_str\n"
   ]
  },
  {
   "cell_type": "code",
   "execution_count": null,
   "id": "a7e36bc3",
   "metadata": {},
   "outputs": [
    {
     "name": "stdout",
     "output_type": "stream",
     "text": [
      "\n",
      "SELECT ?region_name ?url ?population \n",
      "WHERE {\n",
      "  VALUES ?url {\n",
      "    dbr:Abruzzo dbr:Basilicata dbr:Calabria dbr:Campania dbr:Emilia-Romagna dbr:Lazio dbr:Lombardy dbr:Marche dbr:Apulia dbr:Sardinia dbr:Tuscany dbr:Umbria dbr:Veneto\n",
      "  }\n",
      "  ?url dbo:populationTotal ?population .\n",
      "  ?url rdfs:label ?region_name .\n",
      "  FILTER(lang(?region_name) = \"it\")\n",
      "}\n",
      "ORDER BY ?url\n",
      "\n",
      "['Abruzzo', 'Basilicata', 'Calabria', 'Campania', 'Emilia-Romagna', 'Lazio', 'Lombardia', 'Marche', 'Puglia', 'Sardegna', 'Toscana', 'Umbria', 'Veneto']\n"
     ]
    },
    {
     "data": {
      "application/vnd.microsoft.datawrangler.viewer.v0+json": {
       "columns": [
        {
         "name": "index",
         "rawType": "int64",
         "type": "integer"
        },
        {
         "name": "region_name",
         "rawType": "object",
         "type": "string"
        },
        {
         "name": "url",
         "rawType": "object",
         "type": "string"
        },
        {
         "name": "population",
         "rawType": "object",
         "type": "string"
        }
       ],
       "ref": "993f423a-49db-4582-951b-dc7742ce0828",
       "rows": [
        [
         "0",
         "Abruzzo",
         "http://dbpedia.org/resource/Abruzzo",
         "1305770"
        ],
        [
         "1",
         "Puglia",
         "http://dbpedia.org/resource/Apulia",
         "4063888"
        ],
        [
         "2",
         "Basilicata",
         "http://dbpedia.org/resource/Basilicata",
         "575902"
        ],
        [
         "3",
         "Calabria",
         "http://dbpedia.org/resource/Calabria",
         "1877527"
        ],
        [
         "4",
         "Campania",
         "http://dbpedia.org/resource/Campania",
         "5869029"
        ],
        [
         "5",
         "Emilia-Romagna",
         "http://dbpedia.org/resource/Emilia-Romagna",
         "4446220"
        ],
        [
         "6",
         "Lazio",
         "http://dbpedia.org/resource/Lazio",
         "5864321"
        ],
        [
         "7",
         "Lombardia",
         "http://dbpedia.org/resource/Lombardy",
         "10103969"
        ],
        [
         "8",
         "Marche",
         "http://dbpedia.org/resource/Marche",
         "1541692"
        ],
        [
         "9",
         "Sardegna",
         "http://dbpedia.org/resource/Sardinia",
         "1628384"
        ],
        [
         "10",
         "Toscana",
         "http://dbpedia.org/resource/Tuscany",
         "3722729"
        ],
        [
         "11",
         "Umbria",
         "http://dbpedia.org/resource/Umbria",
         "889001"
        ],
        [
         "12",
         "Veneto",
         "http://dbpedia.org/resource/Veneto",
         "4865380"
        ]
       ],
       "shape": {
        "columns": 3,
        "rows": 13
       }
      },
      "text/html": [
       "<div>\n",
       "<style scoped>\n",
       "    .dataframe tbody tr th:only-of-type {\n",
       "        vertical-align: middle;\n",
       "    }\n",
       "\n",
       "    .dataframe tbody tr th {\n",
       "        vertical-align: top;\n",
       "    }\n",
       "\n",
       "    .dataframe thead th {\n",
       "        text-align: right;\n",
       "    }\n",
       "</style>\n",
       "<table border=\"1\" class=\"dataframe\">\n",
       "  <thead>\n",
       "    <tr style=\"text-align: right;\">\n",
       "      <th></th>\n",
       "      <th>region_name</th>\n",
       "      <th>url</th>\n",
       "      <th>population</th>\n",
       "    </tr>\n",
       "  </thead>\n",
       "  <tbody>\n",
       "    <tr>\n",
       "      <th>0</th>\n",
       "      <td>Abruzzo</td>\n",
       "      <td>http://dbpedia.org/resource/Abruzzo</td>\n",
       "      <td>1305770</td>\n",
       "    </tr>\n",
       "    <tr>\n",
       "      <th>1</th>\n",
       "      <td>Puglia</td>\n",
       "      <td>http://dbpedia.org/resource/Apulia</td>\n",
       "      <td>4063888</td>\n",
       "    </tr>\n",
       "    <tr>\n",
       "      <th>2</th>\n",
       "      <td>Basilicata</td>\n",
       "      <td>http://dbpedia.org/resource/Basilicata</td>\n",
       "      <td>575902</td>\n",
       "    </tr>\n",
       "    <tr>\n",
       "      <th>3</th>\n",
       "      <td>Calabria</td>\n",
       "      <td>http://dbpedia.org/resource/Calabria</td>\n",
       "      <td>1877527</td>\n",
       "    </tr>\n",
       "    <tr>\n",
       "      <th>4</th>\n",
       "      <td>Campania</td>\n",
       "      <td>http://dbpedia.org/resource/Campania</td>\n",
       "      <td>5869029</td>\n",
       "    </tr>\n",
       "    <tr>\n",
       "      <th>5</th>\n",
       "      <td>Emilia-Romagna</td>\n",
       "      <td>http://dbpedia.org/resource/Emilia-Romagna</td>\n",
       "      <td>4446220</td>\n",
       "    </tr>\n",
       "    <tr>\n",
       "      <th>6</th>\n",
       "      <td>Lazio</td>\n",
       "      <td>http://dbpedia.org/resource/Lazio</td>\n",
       "      <td>5864321</td>\n",
       "    </tr>\n",
       "    <tr>\n",
       "      <th>7</th>\n",
       "      <td>Lombardia</td>\n",
       "      <td>http://dbpedia.org/resource/Lombardy</td>\n",
       "      <td>10103969</td>\n",
       "    </tr>\n",
       "    <tr>\n",
       "      <th>8</th>\n",
       "      <td>Marche</td>\n",
       "      <td>http://dbpedia.org/resource/Marche</td>\n",
       "      <td>1541692</td>\n",
       "    </tr>\n",
       "    <tr>\n",
       "      <th>9</th>\n",
       "      <td>Sardegna</td>\n",
       "      <td>http://dbpedia.org/resource/Sardinia</td>\n",
       "      <td>1628384</td>\n",
       "    </tr>\n",
       "    <tr>\n",
       "      <th>10</th>\n",
       "      <td>Toscana</td>\n",
       "      <td>http://dbpedia.org/resource/Tuscany</td>\n",
       "      <td>3722729</td>\n",
       "    </tr>\n",
       "    <tr>\n",
       "      <th>11</th>\n",
       "      <td>Umbria</td>\n",
       "      <td>http://dbpedia.org/resource/Umbria</td>\n",
       "      <td>889001</td>\n",
       "    </tr>\n",
       "    <tr>\n",
       "      <th>12</th>\n",
       "      <td>Veneto</td>\n",
       "      <td>http://dbpedia.org/resource/Veneto</td>\n",
       "      <td>4865380</td>\n",
       "    </tr>\n",
       "  </tbody>\n",
       "</table>\n",
       "</div>"
      ],
      "text/plain": [
       "       region_name                                         url population\n",
       "0          Abruzzo         http://dbpedia.org/resource/Abruzzo    1305770\n",
       "1           Puglia          http://dbpedia.org/resource/Apulia    4063888\n",
       "2       Basilicata      http://dbpedia.org/resource/Basilicata     575902\n",
       "3         Calabria        http://dbpedia.org/resource/Calabria    1877527\n",
       "4         Campania        http://dbpedia.org/resource/Campania    5869029\n",
       "5   Emilia-Romagna  http://dbpedia.org/resource/Emilia-Romagna    4446220\n",
       "6            Lazio           http://dbpedia.org/resource/Lazio    5864321\n",
       "7        Lombardia        http://dbpedia.org/resource/Lombardy   10103969\n",
       "8           Marche          http://dbpedia.org/resource/Marche    1541692\n",
       "9         Sardegna        http://dbpedia.org/resource/Sardinia    1628384\n",
       "10         Toscana         http://dbpedia.org/resource/Tuscany    3722729\n",
       "11          Umbria          http://dbpedia.org/resource/Umbria     889001\n",
       "12          Veneto          http://dbpedia.org/resource/Veneto    4865380"
      ]
     },
     "execution_count": 8,
     "metadata": {},
     "output_type": "execute_result"
    }
   ],
   "source": [
    "# \n",
    "# ?? 7. preparing data for JSON push\n",
    "#\n",
    "\n",
    "valid_regions = get_regions(False)\n",
    "region_page_resources_str = get_region_pages()\n",
    "\n",
    "population_query = f\"\"\"\n",
    "SELECT ?region_name ?url ?population \n",
    "WHERE {{\n",
    "  VALUES ?url {{\n",
    "    {region_page_resources_str}\n",
    "  }}\n",
    "  ?url dbo:populationTotal ?population .\n",
    "  ?url rdfs:label ?region_name .\n",
    "  FILTER(lang(?region_name) = \"it\")\n",
    "}}\n",
    "ORDER BY ?url\n",
    "\"\"\"\n",
    "print(population_query)\n",
    "\n",
    "print(valid_regions)\n",
    "region_data = run_query(population_query)\n",
    "region_data = region_data[region_data[\"region_name\"].isin(valid_regions)].reset_index(drop=True) # type: ignore\n",
    "region_data"
   ]
  },
  {
   "cell_type": "code",
   "execution_count": 17,
   "id": "5715772d",
   "metadata": {},
   "outputs": [
    {
     "data": {
      "application/vnd.microsoft.datawrangler.viewer.v0+json": {
       "columns": [
        {
         "name": "index",
         "rawType": "int64",
         "type": "integer"
        },
        {
         "name": "conv",
         "rawType": "object",
         "type": "string"
        },
        {
         "name": "convLabel",
         "rawType": "object",
         "type": "string"
        }
       ],
       "ref": "a05757ec-ac88-419b-8c3d-f5339331db07",
       "rows": [
        [
         "0",
         "http://www.wikidata.org/entity/Q52943",
         "conversation"
        ]
       ],
       "shape": {
        "columns": 2,
        "rows": 1
       }
      },
      "text/html": [
       "<div>\n",
       "<style scoped>\n",
       "    .dataframe tbody tr th:only-of-type {\n",
       "        vertical-align: middle;\n",
       "    }\n",
       "\n",
       "    .dataframe tbody tr th {\n",
       "        vertical-align: top;\n",
       "    }\n",
       "\n",
       "    .dataframe thead th {\n",
       "        text-align: right;\n",
       "    }\n",
       "</style>\n",
       "<table border=\"1\" class=\"dataframe\">\n",
       "  <thead>\n",
       "    <tr style=\"text-align: right;\">\n",
       "      <th></th>\n",
       "      <th>conv</th>\n",
       "      <th>convLabel</th>\n",
       "    </tr>\n",
       "  </thead>\n",
       "  <tbody>\n",
       "    <tr>\n",
       "      <th>0</th>\n",
       "      <td>http://www.wikidata.org/entity/Q52943</td>\n",
       "      <td>conversation</td>\n",
       "    </tr>\n",
       "  </tbody>\n",
       "</table>\n",
       "</div>"
      ],
      "text/plain": [
       "                                    conv     convLabel\n",
       "0  http://www.wikidata.org/entity/Q52943  conversation"
      ]
     },
     "execution_count": 17,
     "metadata": {},
     "output_type": "execute_result"
    }
   ],
   "source": [
    "#\n",
    "# now for some conversations querying...\n",
    "#\n",
    "\n",
    "conversation_themes_query = \"\"\"\n",
    "SELECT ?conv ?convLabel WHERE {\n",
    "  ?conv rdfs:label \"conversation\"@en.\n",
    "  SERVICE wikibase:label { bd:serviceParam wikibase:language \"en\". }\n",
    "}\n",
    "\"\"\"\n",
    "\n",
    "conversation_themes = run_query(conversation_themes_query, wikidata_endpoint)\n",
    "conversation_themes"
   ]
  },
  {
   "cell_type": "code",
   "execution_count": null,
   "id": "6b53da00",
   "metadata": {},
   "outputs": [
    {
     "data": {
      "application/vnd.microsoft.datawrangler.viewer.v0+json": {
       "columns": [
        {
         "name": "index",
         "rawType": "int64",
         "type": "integer"
        },
        {
         "name": "exampleLabel",
         "rawType": "object",
         "type": "string"
        },
        {
         "name": "predicate",
         "rawType": "object",
         "type": "string"
        },
        {
         "name": "predicate_id",
         "rawType": "object",
         "type": "string"
        }
       ],
       "ref": "9ca27eb6-6207-4539-b2f6-e9d743339ecd",
       "rows": [
        [
         "0",
         "Nikolaus P. Himmelmann",
         "http://www.wikidata.org/prop/direct/P101",
         "wdt:P101"
        ],
        [
         "1",
         "A Conversation",
         "http://www.wikidata.org/prop/direct/P138",
         "wdt:P138"
        ],
        [
         "2",
         "View of the Garden of the Villa Medici",
         "http://www.wikidata.org/prop/direct/P180",
         "wdt:P180"
        ],
        [
         "3",
         "English conversation",
         "http://www.wikidata.org/prop/direct/P31",
         "wdt:P31"
        ],
        [
         "4",
         "oral communication",
         "http://www.wikidata.org/prop/direct/P1382",
         "wdt:P1382"
        ],
        [
         "5",
         "turn-taking",
         "http://www.wikidata.org/prop/direct/P1542",
         "wdt:P1542"
        ],
        [
         "6",
         "emotion recognition in conversation",
         "http://www.wikidata.org/prop/direct/P2283",
         "wdt:P2283"
        ],
        [
         "7",
         "interview",
         "http://www.wikidata.org/prop/direct/P279",
         "wdt:P279"
        ],
        [
         "8",
         "Category:Conversation",
         "http://www.wikidata.org/prop/direct/P301",
         "wdt:P301"
        ],
        [
         "9",
         "awkward silence",
         "http://www.wikidata.org/prop/direct/P361",
         "wdt:P361"
        ],
        [
         "10",
         "chatbot",
         "http://www.wikidata.org/prop/direct/P366",
         "wdt:P366"
        ],
        [
         "11",
         "dialogue",
         "http://www.wikidata.org/prop/direct/P460",
         "wdt:P460"
        ],
        [
         "12",
         "The Practice of the Presence of God",
         "http://www.wikidata.org/prop/direct/P7937",
         "wdt:P7937"
        ],
        [
         "13",
         "maxims of conversation",
         "http://www.wikidata.org/prop/direct/P921",
         "wdt:P921"
        ],
        [
         "14",
         "Object",
         "http://www.wikidata.org/prop/direct/P941",
         "wdt:P941"
        ]
       ],
       "shape": {
        "columns": 3,
        "rows": 15
       }
      },
      "text/html": [
       "<div>\n",
       "<style scoped>\n",
       "    .dataframe tbody tr th:only-of-type {\n",
       "        vertical-align: middle;\n",
       "    }\n",
       "\n",
       "    .dataframe tbody tr th {\n",
       "        vertical-align: top;\n",
       "    }\n",
       "\n",
       "    .dataframe thead th {\n",
       "        text-align: right;\n",
       "    }\n",
       "</style>\n",
       "<table border=\"1\" class=\"dataframe\">\n",
       "  <thead>\n",
       "    <tr style=\"text-align: right;\">\n",
       "      <th></th>\n",
       "      <th>exampleLabel</th>\n",
       "      <th>predicate</th>\n",
       "      <th>predicate_id</th>\n",
       "    </tr>\n",
       "  </thead>\n",
       "  <tbody>\n",
       "    <tr>\n",
       "      <th>0</th>\n",
       "      <td>Nikolaus P. Himmelmann</td>\n",
       "      <td>http://www.wikidata.org/prop/direct/P101</td>\n",
       "      <td>wdt:P101</td>\n",
       "    </tr>\n",
       "    <tr>\n",
       "      <th>1</th>\n",
       "      <td>A Conversation</td>\n",
       "      <td>http://www.wikidata.org/prop/direct/P138</td>\n",
       "      <td>wdt:P138</td>\n",
       "    </tr>\n",
       "    <tr>\n",
       "      <th>2</th>\n",
       "      <td>View of the Garden of the Villa Medici</td>\n",
       "      <td>http://www.wikidata.org/prop/direct/P180</td>\n",
       "      <td>wdt:P180</td>\n",
       "    </tr>\n",
       "    <tr>\n",
       "      <th>3</th>\n",
       "      <td>English conversation</td>\n",
       "      <td>http://www.wikidata.org/prop/direct/P31</td>\n",
       "      <td>wdt:P31</td>\n",
       "    </tr>\n",
       "    <tr>\n",
       "      <th>4</th>\n",
       "      <td>oral communication</td>\n",
       "      <td>http://www.wikidata.org/prop/direct/P1382</td>\n",
       "      <td>wdt:P1382</td>\n",
       "    </tr>\n",
       "    <tr>\n",
       "      <th>5</th>\n",
       "      <td>turn-taking</td>\n",
       "      <td>http://www.wikidata.org/prop/direct/P1542</td>\n",
       "      <td>wdt:P1542</td>\n",
       "    </tr>\n",
       "    <tr>\n",
       "      <th>6</th>\n",
       "      <td>emotion recognition in conversation</td>\n",
       "      <td>http://www.wikidata.org/prop/direct/P2283</td>\n",
       "      <td>wdt:P2283</td>\n",
       "    </tr>\n",
       "    <tr>\n",
       "      <th>7</th>\n",
       "      <td>interview</td>\n",
       "      <td>http://www.wikidata.org/prop/direct/P279</td>\n",
       "      <td>wdt:P279</td>\n",
       "    </tr>\n",
       "    <tr>\n",
       "      <th>8</th>\n",
       "      <td>Category:Conversation</td>\n",
       "      <td>http://www.wikidata.org/prop/direct/P301</td>\n",
       "      <td>wdt:P301</td>\n",
       "    </tr>\n",
       "    <tr>\n",
       "      <th>9</th>\n",
       "      <td>awkward silence</td>\n",
       "      <td>http://www.wikidata.org/prop/direct/P361</td>\n",
       "      <td>wdt:P361</td>\n",
       "    </tr>\n",
       "    <tr>\n",
       "      <th>10</th>\n",
       "      <td>chatbot</td>\n",
       "      <td>http://www.wikidata.org/prop/direct/P366</td>\n",
       "      <td>wdt:P366</td>\n",
       "    </tr>\n",
       "    <tr>\n",
       "      <th>11</th>\n",
       "      <td>dialogue</td>\n",
       "      <td>http://www.wikidata.org/prop/direct/P460</td>\n",
       "      <td>wdt:P460</td>\n",
       "    </tr>\n",
       "    <tr>\n",
       "      <th>12</th>\n",
       "      <td>The Practice of the Presence of God</td>\n",
       "      <td>http://www.wikidata.org/prop/direct/P7937</td>\n",
       "      <td>wdt:P7937</td>\n",
       "    </tr>\n",
       "    <tr>\n",
       "      <th>13</th>\n",
       "      <td>maxims of conversation</td>\n",
       "      <td>http://www.wikidata.org/prop/direct/P921</td>\n",
       "      <td>wdt:P921</td>\n",
       "    </tr>\n",
       "    <tr>\n",
       "      <th>14</th>\n",
       "      <td>Object</td>\n",
       "      <td>http://www.wikidata.org/prop/direct/P941</td>\n",
       "      <td>wdt:P941</td>\n",
       "    </tr>\n",
       "  </tbody>\n",
       "</table>\n",
       "</div>"
      ],
      "text/plain": [
       "                              exampleLabel  \\\n",
       "0                   Nikolaus P. Himmelmann   \n",
       "1                           A Conversation   \n",
       "2   View of the Garden of the Villa Medici   \n",
       "3                     English conversation   \n",
       "4                       oral communication   \n",
       "5                              turn-taking   \n",
       "6      emotion recognition in conversation   \n",
       "7                                interview   \n",
       "8                    Category:Conversation   \n",
       "9                          awkward silence   \n",
       "10                                 chatbot   \n",
       "11                                dialogue   \n",
       "12     The Practice of the Presence of God   \n",
       "13                  maxims of conversation   \n",
       "14                                  Object   \n",
       "\n",
       "                                    predicate predicate_id  \n",
       "0    http://www.wikidata.org/prop/direct/P101     wdt:P101  \n",
       "1    http://www.wikidata.org/prop/direct/P138     wdt:P138  \n",
       "2    http://www.wikidata.org/prop/direct/P180     wdt:P180  \n",
       "3     http://www.wikidata.org/prop/direct/P31      wdt:P31  \n",
       "4   http://www.wikidata.org/prop/direct/P1382    wdt:P1382  \n",
       "5   http://www.wikidata.org/prop/direct/P1542    wdt:P1542  \n",
       "6   http://www.wikidata.org/prop/direct/P2283    wdt:P2283  \n",
       "7    http://www.wikidata.org/prop/direct/P279     wdt:P279  \n",
       "8    http://www.wikidata.org/prop/direct/P301     wdt:P301  \n",
       "9    http://www.wikidata.org/prop/direct/P361     wdt:P361  \n",
       "10   http://www.wikidata.org/prop/direct/P366     wdt:P366  \n",
       "11   http://www.wikidata.org/prop/direct/P460     wdt:P460  \n",
       "12  http://www.wikidata.org/prop/direct/P7937    wdt:P7937  \n",
       "13   http://www.wikidata.org/prop/direct/P921     wdt:P921  \n",
       "14   http://www.wikidata.org/prop/direct/P941     wdt:P941  "
      ]
     },
     "execution_count": 10,
     "metadata": {},
     "output_type": "execute_result"
    }
   ],
   "source": [
    "#\n",
    "# running the query, then removing irrelevant predicates\n",
    "#\n",
    "\n",
    "conversation_predicates_query = \"\"\"\n",
    "SELECT (SAMPLE(?itemLabel) AS ?exampleLabel) ?predicate\n",
    "WHERE {\n",
    "  ?item ?predicate wd:Q52943;\n",
    "        rdfs:label ?itemLabel.\n",
    "  FILTER(LANG(?itemLabel) = \"en\")\n",
    "}\n",
    "GROUP BY ?predicate\n",
    "ORDER BY ?predicate\n",
    "\"\"\"\n",
    "\n",
    "# FILTER(?predicate IN (wdt:P101, wdt:P921, wdt:P136))\n",
    "\n",
    "conversation_predicates = run_query(conversation_predicates_query, wikidata_endpoint)\n",
    "predicate_list = conversation_predicates[\"predicate\"].str.extract(r\"/P(\\d+)$\")[0].apply(lambda x: f\"wdt:P{x}\") # type: ignore\n",
    "conversation_predicates[\"predicate_id\"] = predicate_list # type: ignore\n",
    "conversation_predicates"
   ]
  },
  {
   "cell_type": "code",
   "execution_count": 11,
   "id": "89df163a",
   "metadata": {},
   "outputs": [
    {
     "data": {
      "text/plain": [
       "'wdt:P101 wdt:P138 wdt:P180 wdt:P31 wdt:P1382 wdt:P1542 wdt:P2283 wdt:P279 wdt:P301 wdt:P361 wdt:P366 wdt:P460 wdt:P7937 wdt:P921 wdt:P941'"
      ]
     },
     "execution_count": 11,
     "metadata": {},
     "output_type": "execute_result"
    }
   ],
   "source": [
    "predicate_string = \" \".join(predicate_list)\n",
    "predicate_string"
   ]
  },
  {
   "cell_type": "code",
   "execution_count": null,
   "id": "f8e1c3a4",
   "metadata": {},
   "outputs": [
    {
     "data": {
      "application/vnd.microsoft.datawrangler.viewer.v0+json": {
       "columns": [
        {
         "name": "index",
         "rawType": "int64",
         "type": "integer"
        },
        {
         "name": "item",
         "rawType": "object",
         "type": "string"
        },
        {
         "name": "predicate",
         "rawType": "object",
         "type": "string"
        },
        {
         "name": "itemLabel",
         "rawType": "object",
         "type": "string"
        },
        {
         "name": "predicate_id",
         "rawType": "object",
         "type": "string"
        }
       ],
       "ref": "3933693d-ea45-4653-a683-510ca970f202",
       "rows": [
        [
         "0",
         "http://www.wikidata.org/entity/Q4680988",
         "http://www.wikidata.org/prop/direct/P279",
         "Adda",
         "wdt:P279"
        ],
        [
         "1",
         "http://www.wikidata.org/entity/Q7047953",
         "http://www.wikidata.org/prop/direct/P279",
         "Intake interview",
         "wdt:P279"
        ],
        [
         "2",
         "http://www.wikidata.org/entity/Q4830098",
         "http://www.wikidata.org/prop/direct/P361",
         "awkward silence",
         "wdt:P361"
        ],
        [
         "3",
         "http://www.wikidata.org/entity/Q2892080",
         "http://www.wikidata.org/prop/direct/P279",
         "chatter",
         "wdt:P279"
        ],
        [
         "4",
         "http://www.wikidata.org/entity/Q124391291",
         "http://www.wikidata.org/prop/direct/P361",
         "comfortable silence",
         "wdt:P361"
        ],
        [
         "5",
         "http://www.wikidata.org/entity/Q5154139",
         "http://www.wikidata.org/prop/direct/P279",
         "communication in small groups",
         "wdt:P279"
        ],
        [
         "6",
         "http://www.wikidata.org/entity/Q939654",
         "http://www.wikidata.org/prop/direct/P279",
         "conversation piece",
         "wdt:P279"
        ],
        [
         "7",
         "http://www.wikidata.org/entity/Q5176265",
         "http://www.wikidata.org/prop/direct/P279",
         "council circle",
         "wdt:P279"
        ],
        [
         "8",
         "http://www.wikidata.org/entity/Q131395",
         "http://www.wikidata.org/prop/direct/P460",
         "dialogue",
         "wdt:P460"
        ],
        [
         "9",
         "http://www.wikidata.org/entity/Q2286435",
         "http://www.wikidata.org/prop/direct/P279",
         "difficult conversation",
         "wdt:P279"
        ],
        [
         "10",
         "http://www.wikidata.org/entity/Q3030248",
         "http://www.wikidata.org/prop/direct/P460",
         "discussion",
         "wdt:P460"
        ],
        [
         "11",
         "http://www.wikidata.org/entity/Q120042713",
         "http://www.wikidata.org/prop/direct/P279",
         "doctor-patient conversation",
         "wdt:P279"
        ],
        [
         "12",
         "http://www.wikidata.org/entity/Q96377243",
         "http://www.wikidata.org/prop/direct/P2283",
         "emotion recognition in conversation",
         "wdt:P2283"
        ],
        [
         "13",
         "http://www.wikidata.org/entity/Q854648",
         "http://www.wikidata.org/prop/direct/P279",
         "gossip",
         "wdt:P279"
        ],
        [
         "14",
         "http://www.wikidata.org/entity/Q16947017",
         "http://www.wikidata.org/prop/direct/P279",
         "in-depth interview",
         "wdt:P279"
        ],
        [
         "15",
         "http://www.wikidata.org/entity/Q959298",
         "http://www.wikidata.org/prop/direct/P279",
         "intervention",
         "wdt:P279"
        ],
        [
         "16",
         "http://www.wikidata.org/entity/Q178651",
         "http://www.wikidata.org/prop/direct/P279",
         "interview",
         "wdt:P279"
        ],
        [
         "17",
         "http://www.wikidata.org/entity/Q850171",
         "http://www.wikidata.org/prop/direct/P279",
         "job interview",
         "wdt:P279"
        ],
        [
         "18",
         "http://www.wikidata.org/entity/Q111739106",
         "http://www.wikidata.org/prop/direct/P279",
         "locker room talk",
         "wdt:P279"
        ],
        [
         "19",
         "http://www.wikidata.org/entity/Q233110",
         "http://www.wikidata.org/prop/direct/P279",
         "non-convergent discourse",
         "wdt:P279"
        ],
        [
         "20",
         "http://www.wikidata.org/entity/Q3689704",
         "http://www.wikidata.org/prop/direct/P1382",
         "oral communication",
         "wdt:P1382"
        ],
        [
         "21",
         "http://www.wikidata.org/entity/Q2996400",
         "http://www.wikidata.org/prop/direct/P279",
         "phone conversation",
         "wdt:P279"
        ],
        [
         "22",
         "http://www.wikidata.org/entity/Q120897766",
         "http://www.wikidata.org/prop/direct/P279",
         "radio voice communication",
         "wdt:P279"
        ],
        [
         "23",
         "http://www.wikidata.org/entity/Q119810678",
         "http://www.wikidata.org/prop/direct/P2283",
         "relationship effort",
         "wdt:P2283"
        ],
        [
         "24",
         "http://www.wikidata.org/entity/Q2732079",
         "http://www.wikidata.org/prop/direct/P279",
         "religious debates over the Harry Potter series",
         "wdt:P279"
        ],
        [
         "25",
         "http://www.wikidata.org/entity/Q370665",
         "http://www.wikidata.org/prop/direct/P279",
         "sacra conversazione",
         "wdt:P279"
        ],
        [
         "26",
         "http://www.wikidata.org/entity/Q111242715",
         "http://www.wikidata.org/prop/direct/P361",
         "whispering in Islam",
         "wdt:P361"
        ],
        [
         "27",
         "http://www.wikidata.org/entity/Q11373565",
         "http://www.wikidata.org/prop/direct/P279",
         "women gossip",
         "wdt:P279"
        ]
       ],
       "shape": {
        "columns": 4,
        "rows": 28
       }
      },
      "text/html": [
       "<div>\n",
       "<style scoped>\n",
       "    .dataframe tbody tr th:only-of-type {\n",
       "        vertical-align: middle;\n",
       "    }\n",
       "\n",
       "    .dataframe tbody tr th {\n",
       "        vertical-align: top;\n",
       "    }\n",
       "\n",
       "    .dataframe thead th {\n",
       "        text-align: right;\n",
       "    }\n",
       "</style>\n",
       "<table border=\"1\" class=\"dataframe\">\n",
       "  <thead>\n",
       "    <tr style=\"text-align: right;\">\n",
       "      <th></th>\n",
       "      <th>item</th>\n",
       "      <th>predicate</th>\n",
       "      <th>itemLabel</th>\n",
       "      <th>predicate_id</th>\n",
       "    </tr>\n",
       "  </thead>\n",
       "  <tbody>\n",
       "    <tr>\n",
       "      <th>0</th>\n",
       "      <td>http://www.wikidata.org/entity/Q4680988</td>\n",
       "      <td>http://www.wikidata.org/prop/direct/P279</td>\n",
       "      <td>Adda</td>\n",
       "      <td>wdt:P279</td>\n",
       "    </tr>\n",
       "    <tr>\n",
       "      <th>1</th>\n",
       "      <td>http://www.wikidata.org/entity/Q7047953</td>\n",
       "      <td>http://www.wikidata.org/prop/direct/P279</td>\n",
       "      <td>Intake interview</td>\n",
       "      <td>wdt:P279</td>\n",
       "    </tr>\n",
       "    <tr>\n",
       "      <th>2</th>\n",
       "      <td>http://www.wikidata.org/entity/Q4830098</td>\n",
       "      <td>http://www.wikidata.org/prop/direct/P361</td>\n",
       "      <td>awkward silence</td>\n",
       "      <td>wdt:P361</td>\n",
       "    </tr>\n",
       "    <tr>\n",
       "      <th>3</th>\n",
       "      <td>http://www.wikidata.org/entity/Q2892080</td>\n",
       "      <td>http://www.wikidata.org/prop/direct/P279</td>\n",
       "      <td>chatter</td>\n",
       "      <td>wdt:P279</td>\n",
       "    </tr>\n",
       "    <tr>\n",
       "      <th>4</th>\n",
       "      <td>http://www.wikidata.org/entity/Q124391291</td>\n",
       "      <td>http://www.wikidata.org/prop/direct/P361</td>\n",
       "      <td>comfortable silence</td>\n",
       "      <td>wdt:P361</td>\n",
       "    </tr>\n",
       "    <tr>\n",
       "      <th>5</th>\n",
       "      <td>http://www.wikidata.org/entity/Q5154139</td>\n",
       "      <td>http://www.wikidata.org/prop/direct/P279</td>\n",
       "      <td>communication in small groups</td>\n",
       "      <td>wdt:P279</td>\n",
       "    </tr>\n",
       "    <tr>\n",
       "      <th>6</th>\n",
       "      <td>http://www.wikidata.org/entity/Q939654</td>\n",
       "      <td>http://www.wikidata.org/prop/direct/P279</td>\n",
       "      <td>conversation piece</td>\n",
       "      <td>wdt:P279</td>\n",
       "    </tr>\n",
       "    <tr>\n",
       "      <th>7</th>\n",
       "      <td>http://www.wikidata.org/entity/Q5176265</td>\n",
       "      <td>http://www.wikidata.org/prop/direct/P279</td>\n",
       "      <td>council circle</td>\n",
       "      <td>wdt:P279</td>\n",
       "    </tr>\n",
       "    <tr>\n",
       "      <th>8</th>\n",
       "      <td>http://www.wikidata.org/entity/Q131395</td>\n",
       "      <td>http://www.wikidata.org/prop/direct/P460</td>\n",
       "      <td>dialogue</td>\n",
       "      <td>wdt:P460</td>\n",
       "    </tr>\n",
       "    <tr>\n",
       "      <th>9</th>\n",
       "      <td>http://www.wikidata.org/entity/Q2286435</td>\n",
       "      <td>http://www.wikidata.org/prop/direct/P279</td>\n",
       "      <td>difficult conversation</td>\n",
       "      <td>wdt:P279</td>\n",
       "    </tr>\n",
       "    <tr>\n",
       "      <th>10</th>\n",
       "      <td>http://www.wikidata.org/entity/Q3030248</td>\n",
       "      <td>http://www.wikidata.org/prop/direct/P460</td>\n",
       "      <td>discussion</td>\n",
       "      <td>wdt:P460</td>\n",
       "    </tr>\n",
       "    <tr>\n",
       "      <th>11</th>\n",
       "      <td>http://www.wikidata.org/entity/Q120042713</td>\n",
       "      <td>http://www.wikidata.org/prop/direct/P279</td>\n",
       "      <td>doctor-patient conversation</td>\n",
       "      <td>wdt:P279</td>\n",
       "    </tr>\n",
       "    <tr>\n",
       "      <th>12</th>\n",
       "      <td>http://www.wikidata.org/entity/Q96377243</td>\n",
       "      <td>http://www.wikidata.org/prop/direct/P2283</td>\n",
       "      <td>emotion recognition in conversation</td>\n",
       "      <td>wdt:P2283</td>\n",
       "    </tr>\n",
       "    <tr>\n",
       "      <th>13</th>\n",
       "      <td>http://www.wikidata.org/entity/Q854648</td>\n",
       "      <td>http://www.wikidata.org/prop/direct/P279</td>\n",
       "      <td>gossip</td>\n",
       "      <td>wdt:P279</td>\n",
       "    </tr>\n",
       "    <tr>\n",
       "      <th>14</th>\n",
       "      <td>http://www.wikidata.org/entity/Q16947017</td>\n",
       "      <td>http://www.wikidata.org/prop/direct/P279</td>\n",
       "      <td>in-depth interview</td>\n",
       "      <td>wdt:P279</td>\n",
       "    </tr>\n",
       "    <tr>\n",
       "      <th>15</th>\n",
       "      <td>http://www.wikidata.org/entity/Q959298</td>\n",
       "      <td>http://www.wikidata.org/prop/direct/P279</td>\n",
       "      <td>intervention</td>\n",
       "      <td>wdt:P279</td>\n",
       "    </tr>\n",
       "    <tr>\n",
       "      <th>16</th>\n",
       "      <td>http://www.wikidata.org/entity/Q178651</td>\n",
       "      <td>http://www.wikidata.org/prop/direct/P279</td>\n",
       "      <td>interview</td>\n",
       "      <td>wdt:P279</td>\n",
       "    </tr>\n",
       "    <tr>\n",
       "      <th>17</th>\n",
       "      <td>http://www.wikidata.org/entity/Q850171</td>\n",
       "      <td>http://www.wikidata.org/prop/direct/P279</td>\n",
       "      <td>job interview</td>\n",
       "      <td>wdt:P279</td>\n",
       "    </tr>\n",
       "    <tr>\n",
       "      <th>18</th>\n",
       "      <td>http://www.wikidata.org/entity/Q111739106</td>\n",
       "      <td>http://www.wikidata.org/prop/direct/P279</td>\n",
       "      <td>locker room talk</td>\n",
       "      <td>wdt:P279</td>\n",
       "    </tr>\n",
       "    <tr>\n",
       "      <th>19</th>\n",
       "      <td>http://www.wikidata.org/entity/Q233110</td>\n",
       "      <td>http://www.wikidata.org/prop/direct/P279</td>\n",
       "      <td>non-convergent discourse</td>\n",
       "      <td>wdt:P279</td>\n",
       "    </tr>\n",
       "    <tr>\n",
       "      <th>20</th>\n",
       "      <td>http://www.wikidata.org/entity/Q3689704</td>\n",
       "      <td>http://www.wikidata.org/prop/direct/P1382</td>\n",
       "      <td>oral communication</td>\n",
       "      <td>wdt:P1382</td>\n",
       "    </tr>\n",
       "    <tr>\n",
       "      <th>21</th>\n",
       "      <td>http://www.wikidata.org/entity/Q2996400</td>\n",
       "      <td>http://www.wikidata.org/prop/direct/P279</td>\n",
       "      <td>phone conversation</td>\n",
       "      <td>wdt:P279</td>\n",
       "    </tr>\n",
       "    <tr>\n",
       "      <th>22</th>\n",
       "      <td>http://www.wikidata.org/entity/Q120897766</td>\n",
       "      <td>http://www.wikidata.org/prop/direct/P279</td>\n",
       "      <td>radio voice communication</td>\n",
       "      <td>wdt:P279</td>\n",
       "    </tr>\n",
       "    <tr>\n",
       "      <th>23</th>\n",
       "      <td>http://www.wikidata.org/entity/Q119810678</td>\n",
       "      <td>http://www.wikidata.org/prop/direct/P2283</td>\n",
       "      <td>relationship effort</td>\n",
       "      <td>wdt:P2283</td>\n",
       "    </tr>\n",
       "    <tr>\n",
       "      <th>24</th>\n",
       "      <td>http://www.wikidata.org/entity/Q2732079</td>\n",
       "      <td>http://www.wikidata.org/prop/direct/P279</td>\n",
       "      <td>religious debates over the Harry Potter series</td>\n",
       "      <td>wdt:P279</td>\n",
       "    </tr>\n",
       "    <tr>\n",
       "      <th>25</th>\n",
       "      <td>http://www.wikidata.org/entity/Q370665</td>\n",
       "      <td>http://www.wikidata.org/prop/direct/P279</td>\n",
       "      <td>sacra conversazione</td>\n",
       "      <td>wdt:P279</td>\n",
       "    </tr>\n",
       "    <tr>\n",
       "      <th>26</th>\n",
       "      <td>http://www.wikidata.org/entity/Q111242715</td>\n",
       "      <td>http://www.wikidata.org/prop/direct/P361</td>\n",
       "      <td>whispering in Islam</td>\n",
       "      <td>wdt:P361</td>\n",
       "    </tr>\n",
       "    <tr>\n",
       "      <th>27</th>\n",
       "      <td>http://www.wikidata.org/entity/Q11373565</td>\n",
       "      <td>http://www.wikidata.org/prop/direct/P279</td>\n",
       "      <td>women gossip</td>\n",
       "      <td>wdt:P279</td>\n",
       "    </tr>\n",
       "  </tbody>\n",
       "</table>\n",
       "</div>"
      ],
      "text/plain": [
       "                                         item  \\\n",
       "0     http://www.wikidata.org/entity/Q4680988   \n",
       "1     http://www.wikidata.org/entity/Q7047953   \n",
       "2     http://www.wikidata.org/entity/Q4830098   \n",
       "3     http://www.wikidata.org/entity/Q2892080   \n",
       "4   http://www.wikidata.org/entity/Q124391291   \n",
       "5     http://www.wikidata.org/entity/Q5154139   \n",
       "6      http://www.wikidata.org/entity/Q939654   \n",
       "7     http://www.wikidata.org/entity/Q5176265   \n",
       "8      http://www.wikidata.org/entity/Q131395   \n",
       "9     http://www.wikidata.org/entity/Q2286435   \n",
       "10    http://www.wikidata.org/entity/Q3030248   \n",
       "11  http://www.wikidata.org/entity/Q120042713   \n",
       "12   http://www.wikidata.org/entity/Q96377243   \n",
       "13     http://www.wikidata.org/entity/Q854648   \n",
       "14   http://www.wikidata.org/entity/Q16947017   \n",
       "15     http://www.wikidata.org/entity/Q959298   \n",
       "16     http://www.wikidata.org/entity/Q178651   \n",
       "17     http://www.wikidata.org/entity/Q850171   \n",
       "18  http://www.wikidata.org/entity/Q111739106   \n",
       "19     http://www.wikidata.org/entity/Q233110   \n",
       "20    http://www.wikidata.org/entity/Q3689704   \n",
       "21    http://www.wikidata.org/entity/Q2996400   \n",
       "22  http://www.wikidata.org/entity/Q120897766   \n",
       "23  http://www.wikidata.org/entity/Q119810678   \n",
       "24    http://www.wikidata.org/entity/Q2732079   \n",
       "25     http://www.wikidata.org/entity/Q370665   \n",
       "26  http://www.wikidata.org/entity/Q111242715   \n",
       "27   http://www.wikidata.org/entity/Q11373565   \n",
       "\n",
       "                                    predicate  \\\n",
       "0    http://www.wikidata.org/prop/direct/P279   \n",
       "1    http://www.wikidata.org/prop/direct/P279   \n",
       "2    http://www.wikidata.org/prop/direct/P361   \n",
       "3    http://www.wikidata.org/prop/direct/P279   \n",
       "4    http://www.wikidata.org/prop/direct/P361   \n",
       "5    http://www.wikidata.org/prop/direct/P279   \n",
       "6    http://www.wikidata.org/prop/direct/P279   \n",
       "7    http://www.wikidata.org/prop/direct/P279   \n",
       "8    http://www.wikidata.org/prop/direct/P460   \n",
       "9    http://www.wikidata.org/prop/direct/P279   \n",
       "10   http://www.wikidata.org/prop/direct/P460   \n",
       "11   http://www.wikidata.org/prop/direct/P279   \n",
       "12  http://www.wikidata.org/prop/direct/P2283   \n",
       "13   http://www.wikidata.org/prop/direct/P279   \n",
       "14   http://www.wikidata.org/prop/direct/P279   \n",
       "15   http://www.wikidata.org/prop/direct/P279   \n",
       "16   http://www.wikidata.org/prop/direct/P279   \n",
       "17   http://www.wikidata.org/prop/direct/P279   \n",
       "18   http://www.wikidata.org/prop/direct/P279   \n",
       "19   http://www.wikidata.org/prop/direct/P279   \n",
       "20  http://www.wikidata.org/prop/direct/P1382   \n",
       "21   http://www.wikidata.org/prop/direct/P279   \n",
       "22   http://www.wikidata.org/prop/direct/P279   \n",
       "23  http://www.wikidata.org/prop/direct/P2283   \n",
       "24   http://www.wikidata.org/prop/direct/P279   \n",
       "25   http://www.wikidata.org/prop/direct/P279   \n",
       "26   http://www.wikidata.org/prop/direct/P361   \n",
       "27   http://www.wikidata.org/prop/direct/P279   \n",
       "\n",
       "                                         itemLabel predicate_id  \n",
       "0                                             Adda     wdt:P279  \n",
       "1                                 Intake interview     wdt:P279  \n",
       "2                                  awkward silence     wdt:P361  \n",
       "3                                          chatter     wdt:P279  \n",
       "4                              comfortable silence     wdt:P361  \n",
       "5                    communication in small groups     wdt:P279  \n",
       "6                               conversation piece     wdt:P279  \n",
       "7                                   council circle     wdt:P279  \n",
       "8                                         dialogue     wdt:P460  \n",
       "9                           difficult conversation     wdt:P279  \n",
       "10                                      discussion     wdt:P460  \n",
       "11                     doctor-patient conversation     wdt:P279  \n",
       "12             emotion recognition in conversation    wdt:P2283  \n",
       "13                                          gossip     wdt:P279  \n",
       "14                              in-depth interview     wdt:P279  \n",
       "15                                    intervention     wdt:P279  \n",
       "16                                       interview     wdt:P279  \n",
       "17                                   job interview     wdt:P279  \n",
       "18                                locker room talk     wdt:P279  \n",
       "19                        non-convergent discourse     wdt:P279  \n",
       "20                              oral communication    wdt:P1382  \n",
       "21                              phone conversation     wdt:P279  \n",
       "22                       radio voice communication     wdt:P279  \n",
       "23                             relationship effort    wdt:P2283  \n",
       "24  religious debates over the Harry Potter series     wdt:P279  \n",
       "25                             sacra conversazione     wdt:P279  \n",
       "26                             whispering in Islam     wdt:P361  \n",
       "27                                    women gossip     wdt:P279  "
      ]
     },
     "execution_count": 12,
     "metadata": {},
     "output_type": "execute_result"
    }
   ],
   "source": [
    "#\n",
    "# ?? getting results, then filtering out undesired ones\n",
    "#\n",
    "\n",
    "predicate_ids_query = f\"\"\"\n",
    "SELECT DISTINCT ?item ?predicate ?itemLabel \n",
    "WHERE {{\n",
    "  ?item ?predicate wd:Q52943 .\n",
    "  VALUES ?predicate {{ {predicate_string} }}\n",
    "  ?item rdfs:label ?itemLabel.\n",
    "  FILTER(LANG(?itemLabel) = \"en\")\n",
    "  FILTER(?predicate NOT IN (wdt:P101, wdt:P301, wdt:P366, wdt:P7937, wdt:P921, wdt:P941))\n",
    "  FILTER(?predicate NOT IN (wdt:P180, wdt:P31))\n",
    "  FILTER(?predicate NOT IN (wdt:P138, wdt:P1542))\n",
    "}}\n",
    "ORDER BY ?itemLabel\n",
    "\"\"\"\n",
    "\n",
    "# ! wdt:P101 : remove\n",
    "# & wdt:P138 : a conversation (singular)\n",
    "# ?? wdt:P180 : descriptions???\n",
    "# ?? wdt:P31 : literary (ish)\n",
    "# & wdt:P1382 : oral communication, (singular)\n",
    "# & wdt:P1542 : turn taking (singular)\n",
    "# * wdt:P2283 : excellent\n",
    "# * wdt:P279 : pretty, good, about conversation genres\n",
    "# ! wdt:P301 : vague, means nothing\n",
    "# * wdt:P361 : solid\n",
    "# ! wdt:P366 : remove\n",
    "# & wdt:P460 : vague at best, classification\n",
    "# ! wdt:P7937 : remove\n",
    "# ! wdt:P921 : a bit problematic\n",
    "# ! wdt:P941 remove\n",
    "\n",
    "\n",
    "conversation_types = run_query(predicate_ids_query, wikidata_endpoint)\n",
    "conversation_types[\"predicate_id\"] = conversation_types[\"predicate\"].str.extract(r\"/P(\\d+)$\")[0].apply(lambda x: f\"wdt:P{x}\") # type: ignore\n",
    "conversation_types\n"
   ]
  },
  {
   "cell_type": "code",
   "execution_count": null,
   "id": "5c17bfe6",
   "metadata": {},
   "outputs": [
    {
     "data": {
      "text/plain": [
       "['Awkward Silence',\n",
       " 'Chatter',\n",
       " 'Comfortable Silence',\n",
       " 'Communication In Small Groups',\n",
       " 'Conversation Piece',\n",
       " 'Dialogue',\n",
       " 'Difficult Conversation',\n",
       " 'Discussion',\n",
       " 'Doctor-Patient Conversation',\n",
       " 'Emotion Recognition In Conversation',\n",
       " 'Gossip',\n",
       " 'Intervention',\n",
       " 'Locker Room Talk',\n",
       " 'Non-Convergent Discourse',\n",
       " 'Oral Communication',\n",
       " 'Phone Conversation',\n",
       " 'Radio Voice Communication',\n",
       " 'Relationship Effort']"
      ]
     },
     "execution_count": 13,
     "metadata": {},
     "output_type": "execute_result"
    }
   ],
   "source": [
    "filtered_conversation_types = sorted(map(str.title, conversation_types[\"itemLabel\"].dropna()))  # type: ignore\n",
    "unwanted_conversation_types = frozenset((\n",
    "    \"Adda\", \"Council Circle\", \"Interview\", \"In-Depth Interview\", \"Intake Interview\", \"Job Interview\", \"Oral Communication\"\n",
    "    \"Radio Voice Communication\", \"Religious Debates Over The Harry Potter Series\",  \"Sacra Conversazione\",  \"Whispering In Islam\",  \"Women Gossip\"\n",
    ")) # gathered from the previous query\n",
    "filtered_conversation_types = [conversation_type for conversation_type in filtered_conversation_types if conversation_type not in unwanted_conversation_types]\n",
    "filtered_conversation_types"
   ]
  },
  {
   "cell_type": "code",
   "execution_count": null,
   "id": "721eba45",
   "metadata": {},
   "outputs": [
    {
     "name": "stdout",
     "output_type": "stream",
     "text": [
      "Saved JSON data to /Users/niconapoli/Library/CloudStorage/OneDrive-TheUniversityofSydney(Students)/University/B Advanced Studies (Digital Music)/Year 3/Semester 1/95781/95781 Project/data/sparql_data.json\n"
     ]
    }
   ],
   "source": [
    "#\n",
    "# push the data to a JSON file for some data reconciliation\n",
    "#\n",
    "\n",
    "import json\n",
    "\n",
    "data = {\n",
    "    \"conversation_types\": filtered_conversation_types,\n",
    "    \"region_data\": {\n",
    "        row[\"region_name\"]: {\n",
    "            \"url\": row[\"url\"],\n",
    "            \"population\": row[\"population\"]\n",
    "        }\n",
    "        for _, row in region_data.iterrows() # type: ignore\n",
    "    }\n",
    "}\n",
    "\n",
    "output_path = Path.cwd().parent / \"data\" / \"sparql_data.json\"\n",
    "\n",
    "with open(output_path, \"w\", encoding=\"utf-8\") as f:\n",
    "    json.dump(data, f, indent=4, ensure_ascii=False)\n",
    "\n",
    "print(f\"Saved JSON data to {output_path}\")\n"
   ]
  }
 ],
 "metadata": {
  "kernelspec": {
   "display_name": "Python 3",
   "language": "python",
   "name": "python3"
  },
  "language_info": {
   "codemirror_mode": {
    "name": "ipython",
    "version": 3
   },
   "file_extension": ".py",
   "mimetype": "text/x-python",
   "name": "python",
   "nbconvert_exporter": "python",
   "pygments_lexer": "ipython3",
   "version": "3.11.0"
  }
 },
 "nbformat": 4,
 "nbformat_minor": 5
}
